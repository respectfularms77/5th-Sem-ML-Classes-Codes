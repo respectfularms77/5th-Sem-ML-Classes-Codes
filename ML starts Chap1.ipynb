{
 "cells": [
  {
   "cell_type": "code",
   "execution_count": 8,
   "id": "61ed9a71-c196-4f2e-a82f-7279c8c2acca",
   "metadata": {},
   "outputs": [
    {
     "name": "stdout",
     "output_type": "stream",
     "text": [
      "1D Array:  [10 20 30]\n",
      "Dimension(known as ndim):  1\n",
      "Shape of Array:  (3,)\n",
      "Size of Array:  3\n"
     ]
    }
   ],
   "source": [
    "#Creating 1D Array\n",
    "import numpy as np\n",
    "\n",
    "arr = np.array([10,20,30])\n",
    "\n",
    "print(\"1D Array: \",arr)\n",
    "print(\"Dimension(known as ndim): \",arr.ndim)\n",
    "print(\"Shape of Array: \",arr.shape)\n",
    "print(\"Size of Array: \",arr.size)"
   ]
  },
  {
   "cell_type": "code",
   "execution_count": 10,
   "id": "d8a08a10-c1ee-46e9-ae10-a94f354446c8",
   "metadata": {},
   "outputs": [
    {
     "name": "stdout",
     "output_type": "stream",
     "text": [
      "2D Array: \n",
      " [[1 2 3]\n",
      " [4 5 6]]\n",
      "Dimension(known as ndim):  2\n",
      "Shape of Array:  (2, 3)\n",
      "Size of Array:  6\n"
     ]
    }
   ],
   "source": [
    "#Creating 2D Array\n",
    "import numpy as np\n",
    "\n",
    "arr=np.array([[1,2,3],[4,5,6]])\n",
    "\n",
    "print(\"2D Array: \\n\",arr)\n",
    "print(\"Dimension(known as ndim): \",arr.ndim)\n",
    "print(\"Shape of Array: \",arr.shape)\n",
    "print(\"Size of Array: \",arr.size)"
   ]
  },
  {
   "cell_type": "code",
   "execution_count": 12,
   "id": "824bec48-a706-4fc0-bda6-49b06abad3e6",
   "metadata": {},
   "outputs": [
    {
     "name": "stdout",
     "output_type": "stream",
     "text": [
      "2D Array: \n",
      " [[1 2 3]\n",
      " [4 5 6]\n",
      " [7 8 9]]\n",
      "Dimension(known as ndim):  2\n",
      "Shape of Array:  (3, 3)\n",
      "Size of Array:  9\n"
     ]
    }
   ],
   "source": [
    "#Creating 2D Array\n",
    "import numpy as np\n",
    "\n",
    "arr=np.array([[1,2,3],[4,5,6],[7,8,9]])\n",
    "\n",
    "print(\"2D Array: \\n\",arr)\n",
    "print(\"Dimension(known as ndim): \",arr.ndim)\n",
    "print(\"Shape of Array: \",arr.shape)\n",
    "print(\"Size of Array: \",arr.size)"
   ]
  },
  {
   "cell_type": "code",
   "execution_count": 13,
   "id": "a19d3605-57e0-4721-afdd-c862da4ed983",
   "metadata": {},
   "outputs": [
    {
     "name": "stdout",
     "output_type": "stream",
     "text": [
      "3D Array: \n",
      " [[[1 2]\n",
      "  [3 4]]\n",
      "\n",
      " [[5 6]\n",
      "  [7 8]]]\n",
      "Dimension(known as ndim):  3\n",
      "Shape of Array:  (2, 2, 2)\n",
      "Size of Array:  8\n"
     ]
    }
   ],
   "source": [
    "#Creating 3D Array\n",
    "import numpy as np\n",
    "\n",
    "arr=np.array([[[1,2],[3,4]],[[5,6],[7,8]]])\n",
    "\n",
    "print(\"3D Array: \\n\",arr)\n",
    "print(\"Dimension(known as ndim): \",arr.ndim)\n",
    "print(\"Shape of Array: \",arr.shape)\n",
    "print(\"Size of Array: \",arr.size)"
   ]
  },
  {
   "cell_type": "code",
   "execution_count": 20,
   "id": "617715ab-9072-4176-baae-18c955e0f239",
   "metadata": {},
   "outputs": [
    {
     "name": "stdout",
     "output_type": "stream",
     "text": [
      "3D Array: \n",
      " [[[ 1  2]\n",
      "  [ 3  4]\n",
      "  [10 20]]\n",
      "\n",
      " [[ 5  6]\n",
      "  [ 7  8]\n",
      "  [30 40]]]\n",
      "Dimension(known as ndim):  3\n",
      "Shape of Array:  (2, 3, 2)\n",
      "Size of Array:  12\n"
     ]
    }
   ],
   "source": [
    "#Creating 3D Array\n",
    "import numpy as np\n",
    "\n",
    "arr=np.array([[[1,2],[3,4],[10,20]],[[5,6],[7,8],[30,40]]])\n",
    "\n",
    "print(\"3D Array: \\n\",arr)\n",
    "print(\"Dimension(known as ndim): \",arr.ndim)\n",
    "print(\"Shape of Array: \",arr.shape)\n",
    "print(\"Size of Array: \",arr.size)"
   ]
  },
  {
   "cell_type": "code",
   "execution_count": 28,
   "id": "21cdf9ab-b557-4bbc-bb5c-c8201847101b",
   "metadata": {},
   "outputs": [
    {
     "name": "stdout",
     "output_type": "stream",
     "text": [
      "Zeros: \n",
      " [[0. 0. 0.]\n",
      " [0. 0. 0.]]\n",
      "Ones: \n",
      " [[1. 1. 1.]\n",
      " [1. 1. 1.]]\n",
      "Empty (random memory values): \n",
      " [[4.9e-324 9.9e-324 1.5e-323 2.0e-323]\n",
      " [2.5e-323 3.0e-323 3.5e-323 4.0e-323]]\n",
      "Full: \n",
      " [[56 56 56]\n",
      " [56 56 56]]\n",
      "Identity Matrices (I): \n",
      " [[1. 0. 0.]\n",
      " [0. 1. 0.]\n",
      " [0. 0. 1.]]\n"
     ]
    }
   ],
   "source": [
    "#Special Arrays\n",
    "print(\"Zeros: \\n\",np.zeros((2,3)))\n",
    "print(\"Ones: \\n\",np.ones((2,3)))\n",
    "print(\"Empty (random memory values): \\n\",np.empty((2,4)))\n",
    "print(\"Full: \\n\",np.full((2,3),56))\n",
    "print(\"Identity Matrices (I): \\n\",np.identity(3))"
   ]
  },
  {
   "cell_type": "code",
   "execution_count": 37,
   "id": "b3673e31-8577-43be-8d2d-061619e34754",
   "metadata": {},
   "outputs": [
    {
     "name": "stdout",
     "output_type": "stream",
     "text": [
      "arange(0, 10, 2):  [0 2 4 6 8]\n",
      "linspace(0,1,5) [0.   1.25 2.5  3.75 5.  ]\n"
     ]
    }
   ],
   "source": [
    "#Array Creation with Range\n",
    "print(\"arange(0, 10, 2): \",np.arange(0,10,2))   #End element is not included & float values are not taken\n",
    "print(\"linspace(0,1,5)\", np.linspace(0,5,5))    #End element is included & Float values can be surely mostly taken"
   ]
  },
  {
   "cell_type": "code",
   "execution_count": 38,
   "id": "7ba21263-f068-4948-a4f8-c25d45034139",
   "metadata": {},
   "outputs": [
    {
     "name": "stdout",
     "output_type": "stream",
     "text": [
      "Reshaped array (2x3):\n",
      "[[1 2 3]\n",
      " [4 5 6]]\n",
      "\n",
      "Ravelled array (1D):\n",
      "[1 2 3 4 5 6]\n"
     ]
    }
   ],
   "source": [
    "#Reshaped & Ravelled\n",
    "import numpy as np\n",
    "\n",
    "# Original 1D array\n",
    "arr = np.array([1, 2, 3, 4, 5, 6])\n",
    "\n",
    "# Reshape the 1D array into 2D (2 rows, 3 columns)\n",
    "reshaped_arr = arr.reshape(2, 3)\n",
    "print(\"Reshaped array (2x3):\")\n",
    "print(reshaped_arr)\n",
    "# Output:\n",
    "# [[1 2 3]\n",
    "#  [4 5 6]]\n",
    "\n",
    "# Ravel the 2D array back to 1D\n",
    "ravelled_arr = reshaped_arr.ravel()\n",
    "print(\"\\nRavelled array (1D):\")\n",
    "print(ravelled_arr)\n",
    "# Output:\n",
    "# [1 2 3 4 5 6]\n"
   ]
  },
  {
   "cell_type": "code",
   "execution_count": null,
   "id": "006da003-c5d3-4ae2-a1fd-d084ff4460a2",
   "metadata": {},
   "outputs": [],
   "source": []
  }
 ],
 "metadata": {
  "kernelspec": {
   "display_name": "Python 3 (ipykernel)",
   "language": "python",
   "name": "python3"
  },
  "language_info": {
   "codemirror_mode": {
    "name": "ipython",
    "version": 3
   },
   "file_extension": ".py",
   "mimetype": "text/x-python",
   "name": "python",
   "nbconvert_exporter": "python",
   "pygments_lexer": "ipython3",
   "version": "3.9.17"
  }
 },
 "nbformat": 4,
 "nbformat_minor": 5
}
