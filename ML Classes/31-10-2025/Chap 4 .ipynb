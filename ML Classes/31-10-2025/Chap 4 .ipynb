{
 "cells": [
  {
   "cell_type": "code",
   "execution_count": 30,
   "id": "6e379ca1",
   "metadata": {},
   "outputs": [
    {
     "data": {
      "text/html": [
       "<div>\n",
       "<style scoped>\n",
       "    .dataframe tbody tr th:only-of-type {\n",
       "        vertical-align: middle;\n",
       "    }\n",
       "\n",
       "    .dataframe tbody tr th {\n",
       "        vertical-align: top;\n",
       "    }\n",
       "\n",
       "    .dataframe thead th {\n",
       "        text-align: right;\n",
       "    }\n",
       "</style>\n",
       "<table border=\"1\" class=\"dataframe\">\n",
       "  <thead>\n",
       "    <tr style=\"text-align: right;\">\n",
       "      <th></th>\n",
       "      <th>grade</th>\n",
       "      <th>Num Range</th>\n",
       "    </tr>\n",
       "  </thead>\n",
       "  <tbody>\n",
       "    <tr>\n",
       "      <th>0</th>\n",
       "      <td>A</td>\n",
       "      <td>100-90</td>\n",
       "    </tr>\n",
       "    <tr>\n",
       "      <th>1</th>\n",
       "      <td>B</td>\n",
       "      <td>89-80</td>\n",
       "    </tr>\n",
       "    <tr>\n",
       "      <th>2</th>\n",
       "      <td>C</td>\n",
       "      <td>79-70</td>\n",
       "    </tr>\n",
       "    <tr>\n",
       "      <th>3</th>\n",
       "      <td>D</td>\n",
       "      <td>69-60</td>\n",
       "    </tr>\n",
       "    <tr>\n",
       "      <th>4</th>\n",
       "      <td>E</td>\n",
       "      <td>59-50</td>\n",
       "    </tr>\n",
       "    <tr>\n",
       "      <th>5</th>\n",
       "      <td>F</td>\n",
       "      <td>49-0</td>\n",
       "    </tr>\n",
       "  </tbody>\n",
       "</table>\n",
       "</div>"
      ],
      "text/plain": [
       "  grade Num Range\n",
       "0     A    100-90\n",
       "1     B     89-80\n",
       "2     C     79-70\n",
       "3     D     69-60\n",
       "4     E     59-50\n",
       "5     F      49-0"
      ]
     },
     "metadata": {},
     "output_type": "display_data"
    }
   ],
   "source": [
    "#Ordinal\n",
    "import pandas as pd\n",
    "data = {\"grade\" : ['A', 'B', 'C', 'D','E', 'F']}\n",
    "df = pd.DataFrame(data)\n",
    "grade_map = {\"A\": \"100-90\", \"B\": \"89-80\", \"C\": \"79-70\", \"D\": \"69-60\", \"E\": \"59-50\", \"F\": \"49-0\"}\n",
    "df[\"Num Range\"] = df[\"grade\"].map(grade_map)\n",
    "display(df)"
   ]
  },
  {
   "cell_type": "code",
   "execution_count": 7,
   "id": "dd8df77f",
   "metadata": {},
   "outputs": [
    {
     "data": {
      "text/html": [
       "<div>\n",
       "<style scoped>\n",
       "    .dataframe tbody tr th:only-of-type {\n",
       "        vertical-align: middle;\n",
       "    }\n",
       "\n",
       "    .dataframe tbody tr th {\n",
       "        vertical-align: top;\n",
       "    }\n",
       "\n",
       "    .dataframe thead th {\n",
       "        text-align: right;\n",
       "    }\n",
       "</style>\n",
       "<table border=\"1\" class=\"dataframe\">\n",
       "  <thead>\n",
       "    <tr style=\"text-align: right;\">\n",
       "      <th></th>\n",
       "      <th>Price</th>\n",
       "      <th>Price Category</th>\n",
       "    </tr>\n",
       "  </thead>\n",
       "  <tbody>\n",
       "    <tr>\n",
       "      <th>0</th>\n",
       "      <td>10000</td>\n",
       "      <td>Very Low</td>\n",
       "    </tr>\n",
       "    <tr>\n",
       "      <th>1</th>\n",
       "      <td>20000</td>\n",
       "      <td>Low</td>\n",
       "    </tr>\n",
       "    <tr>\n",
       "      <th>2</th>\n",
       "      <td>30000</td>\n",
       "      <td>Low</td>\n",
       "    </tr>\n",
       "    <tr>\n",
       "      <th>3</th>\n",
       "      <td>40000</td>\n",
       "      <td>Medium</td>\n",
       "    </tr>\n",
       "    <tr>\n",
       "      <th>4</th>\n",
       "      <td>50000000</td>\n",
       "      <td>Very High</td>\n",
       "    </tr>\n",
       "    <tr>\n",
       "      <th>5</th>\n",
       "      <td>600000000</td>\n",
       "      <td>Very High</td>\n",
       "    </tr>\n",
       "    <tr>\n",
       "      <th>6</th>\n",
       "      <td>12000</td>\n",
       "      <td>Low</td>\n",
       "    </tr>\n",
       "    <tr>\n",
       "      <th>7</th>\n",
       "      <td>34500</td>\n",
       "      <td>Low</td>\n",
       "    </tr>\n",
       "    <tr>\n",
       "      <th>8</th>\n",
       "      <td>123456</td>\n",
       "      <td>Very High</td>\n",
       "    </tr>\n",
       "  </tbody>\n",
       "</table>\n",
       "</div>"
      ],
      "text/plain": [
       "       Price Price Category\n",
       "0      10000       Very Low\n",
       "1      20000            Low\n",
       "2      30000            Low\n",
       "3      40000         Medium\n",
       "4   50000000      Very High\n",
       "5  600000000      Very High\n",
       "6      12000            Low\n",
       "7      34500            Low\n",
       "8     123456      Very High"
      ]
     },
     "metadata": {},
     "output_type": "display_data"
    }
   ],
   "source": [
    "# Binding Continuos Variable\n",
    "import numpy as np\n",
    "import pandas as pd\n",
    "df = pd.DataFrame({'Price' : [10000, 20000, 30000, 40000, 50000000, 600000000, 12000, 34500, 123456]})\n",
    "bins = [-np.inf, 10000 ,35000, 60000, 100000, np.inf]\n",
    "labels = [\"Very Low\", \"Low\", \"Medium\", \"High\", \"Very High\"]\n",
    "df[\"Price Category\"] = pd.cut(df[\"Price\"], bins = bins, labels = labels)\n",
    "display(df)"
   ]
  },
  {
   "cell_type": "code",
   "execution_count": 8,
   "id": "24017aae",
   "metadata": {},
   "outputs": [
    {
     "data": {
      "text/html": [
       "<div>\n",
       "<style scoped>\n",
       "    .dataframe tbody tr th:only-of-type {\n",
       "        vertical-align: middle;\n",
       "    }\n",
       "\n",
       "    .dataframe tbody tr th {\n",
       "        vertical-align: top;\n",
       "    }\n",
       "\n",
       "    .dataframe thead th {\n",
       "        text-align: right;\n",
       "    }\n",
       "</style>\n",
       "<table border=\"1\" class=\"dataframe\">\n",
       "  <thead>\n",
       "    <tr style=\"text-align: right;\">\n",
       "      <th></th>\n",
       "      <th>Reviews</th>\n",
       "      <th>Star Category</th>\n",
       "    </tr>\n",
       "  </thead>\n",
       "  <tbody>\n",
       "    <tr>\n",
       "      <th>0</th>\n",
       "      <td>7.6</td>\n",
       "      <td>Eight Stars</td>\n",
       "    </tr>\n",
       "    <tr>\n",
       "      <th>1</th>\n",
       "      <td>6.5</td>\n",
       "      <td>Seven Stars</td>\n",
       "    </tr>\n",
       "    <tr>\n",
       "      <th>2</th>\n",
       "      <td>3.4</td>\n",
       "      <td>Four Stars</td>\n",
       "    </tr>\n",
       "    <tr>\n",
       "      <th>3</th>\n",
       "      <td>9.0</td>\n",
       "      <td>Nine Stars</td>\n",
       "    </tr>\n",
       "    <tr>\n",
       "      <th>4</th>\n",
       "      <td>6.9</td>\n",
       "      <td>Seven Stars</td>\n",
       "    </tr>\n",
       "    <tr>\n",
       "      <th>5</th>\n",
       "      <td>5.7</td>\n",
       "      <td>Six Stars</td>\n",
       "    </tr>\n",
       "    <tr>\n",
       "      <th>6</th>\n",
       "      <td>7.5</td>\n",
       "      <td>Eight Stars</td>\n",
       "    </tr>\n",
       "    <tr>\n",
       "      <th>7</th>\n",
       "      <td>5.9</td>\n",
       "      <td>Six Stars</td>\n",
       "    </tr>\n",
       "    <tr>\n",
       "      <th>8</th>\n",
       "      <td>4.6</td>\n",
       "      <td>Five Stars</td>\n",
       "    </tr>\n",
       "  </tbody>\n",
       "</table>\n",
       "</div>"
      ],
      "text/plain": [
       "   Reviews Star Category\n",
       "0      7.6   Eight Stars\n",
       "1      6.5   Seven Stars\n",
       "2      3.4    Four Stars\n",
       "3      9.0    Nine Stars\n",
       "4      6.9   Seven Stars\n",
       "5      5.7     Six Stars\n",
       "6      7.5   Eight Stars\n",
       "7      5.9     Six Stars\n",
       "8      4.6    Five Stars"
      ]
     },
     "metadata": {},
     "output_type": "display_data"
    }
   ],
   "source": [
    "#Review Star Patterns\n",
    "import numpy as np\n",
    "import pandas as pd\n",
    "df = pd.DataFrame({'Reviews' : [7.6, 6.5, 3.4, 9.0, 6.9, 5.7, 7.5, 5.9, 4.6]})\n",
    "bins = [0, 1, 2, 3 , 4, 5, 6, 7, 8, 9, 10]\n",
    "labels = [\"One Stars\", \"Two Stars\", \"Three Stars\", \"Four Stars\", \"Five Stars\", \"Six Stars\", \"Seven Stars\", \"Eight Stars\", \"Nine Stars\", \"10 Stars\"]\n",
    "df[\"Rating Category\"] = pd.cut(df[\"Reviews\"], bins = bins, labels = labels)\n",
    "display(df)"
   ]
  },
  {
   "cell_type": "code",
   "execution_count": 18,
   "id": "db232d97",
   "metadata": {},
   "outputs": [
    {
     "name": "stdout",
     "output_type": "stream",
     "text": [
      "PCA(n_components=2)\n",
      "(150, 4)\n",
      "(150, 2)\n"
     ]
    }
   ],
   "source": [
    "#Featue Extraction  -------->> PCA Example using the Imported Dataset\n",
    "\n",
    "from sklearn.decomposition import PCA\n",
    "from sklearn.datasets import load_iris\n",
    "iris = load_iris()\n",
    "# display(iris)\n",
    "X = iris.data\n",
    "\n",
    "#Applying PCA\n",
    "# pca = PCA(n_components = 0)\n",
    "# pca = PCA(n_components = 1)\n",
    "pca = PCA(n_components = 2)   \n",
    "\n",
    "#Processes for Creation of New Dataset\n",
    "X_pca = pca.fit_transform(X)\n",
    "print(X.shape)\n",
    "print(X_pca.shape)"
   ]
  },
  {
   "cell_type": "code",
   "execution_count": 29,
   "id": "a1b55634",
   "metadata": {},
   "outputs": [
    {
     "name": "stdout",
     "output_type": "stream",
     "text": [
      "(106, 15)\n",
      "(106, 5)\n"
     ]
    }
   ],
   "source": [
    "#Featue Extraction  -------->> PCA Example using the BTissue Dataset\n",
    "\n",
    "import pandas as pd\n",
    "from sklearn.decomposition import PCA\n",
    "\n",
    "d1 = pd.read_csv(\"btissue.csv\")\n",
    "d1 = pd.get_dummies(d1,drop_first=False)\n",
    "# display(d1)\n",
    "\n",
    "#Applying PCA\n",
    "# pca = PCA(n_components = 0)\n",
    "# pca = PCA(n_components = 1)\n",
    "pca = PCA(n_components = 5)   \n",
    "\n",
    "#Processes for Creation of New Dataset\n",
    "d1_pca = pca.fit_transform(d1)\n",
    "print(d1.shape)\n",
    "print(d1_pca.shape)"
   ]
  },
  {
   "cell_type": "code",
   "execution_count": 51,
   "id": "18378938",
   "metadata": {},
   "outputs": [
    {
     "name": "stdout",
     "output_type": "stream",
     "text": [
      "[[  0  20  40  60  80]\n",
      " [100 120 140 160 180]\n",
      " [200 220 240 260 280]\n",
      " [300 320 340 360 380]\n",
      " [400 420 440 460 480]\n",
      " [500 520 540 560 580]\n",
      " [600 620 640 660 680]\n",
      " [700 720 740 760 780]\n",
      " [800 820 840 860 880]\n",
      " [900 920 940 960 980]]\n",
      "(10, 5)\n",
      "(10, 2)\n"
     ]
    }
   ],
   "source": [
    "#                       ------------>>>    SVD\n",
    "import numpy as np\n",
    "from sklearn.decomposition import TruncatedSVD\n",
    "\n",
    "#RANDOM MATRIX\n",
    "# X = np.random.rand(4,5)\n",
    "X = np.arange(0,1000, 20).reshape(10,5)\n",
    "print(X)\n",
    "\n",
    "#Applying\n",
    "svd = TruncatedSVD(n_components = 2)\n",
    "X_svd = svd.fit_transform(X)\n",
    "print(X.shape)\n",
    "print(X_svd.shape)"
   ]
  },
  {
   "cell_type": "code",
   "execution_count": 57,
   "id": "824ff37d",
   "metadata": {},
   "outputs": [
    {
     "name": "stdout",
     "output_type": "stream",
     "text": [
      "(106, 15)\n",
      "(106, 5)\n"
     ]
    }
   ],
   "source": [
    "#                       ------------>>>    SVD Example using the BTissue Dataset\n",
    "\n",
    "import pandas as pd\n",
    "from sklearn.decomposition import TruncatedSVD\n",
    "\n",
    "d1 = pd.read_csv(\"btissue.csv\")\n",
    "d1 = pd.get_dummies(d1,drop_first=False)\n",
    "# display(d1)\n",
    "\n",
    "#Applying \n",
    "svd = TruncatedSVD(n_components = 2)\n",
    "\n",
    "#Processes for Creation of New Dataset\n",
    "d1_svd = svd.fit_transform(d1)\n",
    "print(d1.shape)\n",
    "print(d1_pca.shape)"
   ]
  },
  {
   "cell_type": "code",
   "execution_count": 54,
   "id": "099ec4ca",
   "metadata": {},
   "outputs": [
    {
     "name": "stdout",
     "output_type": "stream",
     "text": [
      "(150, 4)\n",
      "(150, 2)\n"
     ]
    }
   ],
   "source": [
    "#LDA \n",
    "import numpy as np\n",
    "from sklearn.discriminant_analysis import LinearDiscriminantAnalysis\n",
    "from sklearn.datasets import load_iris\n",
    "\n",
    "iris = load_iris()\n",
    "X, y = iris.data, iris.target\n",
    "lda =LinearDiscriminantAnalysis(n_components = 2)\n",
    "X_lda = lda.fit_transform(X, y)\n",
    "print(X.shape)\n",
    "print(X_lda.shape)"
   ]
  },
  {
   "cell_type": "code",
   "execution_count": 81,
   "id": "70a64fbc",
   "metadata": {
    "scrolled": false
   },
   "outputs": [
    {
     "name": "stdout",
     "output_type": "stream",
     "text": [
      "(150, 2)\n"
     ]
    },
    {
     "data": {
      "image/png": "[encoded data removed]",
      "text/plain": [
       "<Figure size 500x400 with 1 Axes>"
      ]
     },
     "metadata": {},
     "output_type": "display_data"
    }
   ],
   "source": [
    "import pandas as pd\n",
    "import matplotlib.pyplot as plt\n",
    "from sklearn import datasets\n",
    "from sklearn.decomposition import PCA\n",
    "from sklearn.preprocessing import StandardScaler\n",
    "iris = datasets.load_iris()\n",
    "predictors = iris.data[:, 0:4]\n",
    "target = iris.target\n",
    "# display(predictors)\n",
    "\n",
    "#Standard Scalers happens to work as the Scaling property to \n",
    "predictors = StandardScaler().fit_transform(predictors)\n",
    "# display(predictors)\n",
    "\n",
    "pca = PCA(n_components = 2)\n",
    "Principal_Components_1 = pca.fit_transform(predictors)\n",
    "Principal_Components_1_DataSet = pd.DataFrame(data = Principal_Components_1, columns = [\"PC-1\", \"PC-2\"])\n",
    "print(Principal_Components_1_DataSet.shape)\n",
    "\n",
    "\n",
    "#Scatter Plot for the PC-1 and PC-2 Datas\n",
    "plt.figure(figsize = (5, 4))\n",
    "# Use the 'target' column to color the points\n",
    "scatter = plt.scatter(\n",
    "    Principal_Components_1_DataSet['PC-1'],\n",
    "    Principal_Components_1_DataSet['PC-2']\n",
    ")\n",
    "\n",
    "plt.xlabel('Principal Component 1 (PC-1)', fontsize = 8)\n",
    "plt.ylabel('Principal Component 2 (PC-2)', fontsize = 8)\n",
    "plt.title('2 Component PCA of Iris Dataset', fontsize = 12)\n",
    "\n",
    "\n",
    "plt.grid()\n",
    "plt.show() # Display the plot"
   ]
  },
  {
   "cell_type": "code",
   "execution_count": 78,
   "id": "c2b1f6b1",
   "metadata": {},
   "outputs": [
    {
     "name": "stdout",
     "output_type": "stream",
     "text": [
      "[[-0.06161685  0.12961144  0.0021386  ... -0.09343429 -0.09573864\n",
      "  -0.08085465]\n",
      " [-0.05807094  0.11101978  0.07067239 ...  0.03690405 -0.03153954\n",
      "   0.01309526]\n",
      " [-0.05676305  0.11796647  0.00434255 ...  0.03066199  0.19531473\n",
      "   0.13569909]\n",
      " ...\n",
      " [-0.0940593  -0.0498297  -0.04144001 ...  0.98181631 -0.02194514\n",
      "  -0.00894446]\n",
      " [-0.09488961 -0.05610123 -0.21297821 ... -0.02155617  0.94178018\n",
      "  -0.02971961]\n",
      " [-0.08847836 -0.0515697  -0.09575285 ... -0.0086052  -0.03021088\n",
      "   0.9736599 ]]\n"
     ]
    }
   ],
   "source": [
    "import pandas as pd\n",
    "from sklearn import datasets\n",
    "from scipy.linalg import svd\n",
    "iris = datasets.load_iris()\n",
    "predictors = iris.data[:, 0:4]\n",
    "U, s, VT = svd(predictors)\n",
    "print(U)"
   ]
  },
  {
   "cell_type": "code",
   "execution_count": null,
   "id": "95a225c6",
   "metadata": {},
   "outputs": [],
   "source": []
  }
 ],
 "metadata": {
  "kernelspec": {
   "display_name": "Python 3 (ipykernel)",
   "language": "python",
   "name": "python3"
  },
  "language_info": {
   "codemirror_mode": {
    "name": "ipython",
    "version": 3
   },
   "file_extension": ".py",
   "mimetype": "text/x-python",
   "name": "python",
   "nbconvert_exporter": "python",
   "pygments_lexer": "ipython3",
   "version": "3.9.17"
  }
 },
 "nbformat": 4,
 "nbformat_minor": 5
}
