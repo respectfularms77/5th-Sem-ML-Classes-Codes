{
  "nbformat": 4,
  "nbformat_minor": 0,
  "metadata": {
    "colab": {
      "provenance": []
    },
    "kernelspec": {
      "name": "python3",
      "display_name": "Python 3"
    },
    "language_info": {
      "name": "python"
    }
  },
  "cells": [
    {
      "cell_type": "markdown",
      "source": [
        "#***ML Lab's Minor Assignment on Chapter - 1***\n",
        "\n",
        "###**Name: Arpit Kumar Mohanty**\n",
        "###**Regd. No: 2341013237**\n",
        "###**Serial Number: 31**"
      ],
      "metadata": {
        "id": "jzB-VGAKrjLS"
      }
    },
    {
      "cell_type": "code",
      "execution_count": 9,
      "metadata": {
        "colab": {
          "base_uri": "https://localhost:8080/"
        },
        "id": "QTXtVlfKraDC",
        "outputId": "c832c35d-a5b3-4969-f467-dcc3aef2cbe8"
      },
      "outputs": [
        {
          "output_type": "stream",
          "name": "stdout",
          "text": [
            "Enter your Marks: -10\n",
            "Your Grade is:  Invalid Input\n"
          ]
        }
      ],
      "source": [
        "#Q1)\n",
        "marks = int(input(\"Enter your Marks: \"))\n",
        "grade = \"\"\n",
        "if(90<=marks<=100):\n",
        "  grade = \"A\"\n",
        "elif(75<=marks<=89):\n",
        "  grade = \"B\"\n",
        "elif(50<=marks<=74):\n",
        "  grade = \"C\"\n",
        "elif(0<=marks<=50):\n",
        "  grade = \"Fail\"\n",
        "else:\n",
        "  grade = \"Invalid Input\"\n",
        "print(\"Your Grade is: \",grade)"
      ]
    },
    {
      "cell_type": "code",
      "source": [
        "#Q2)\n",
        "num = int(input(\"Enter your Number to be Caluclated Digit's Sum: \"))\n",
        "sum=0\n",
        "while(num>0):\n",
        "  sum = sum + (num%10)\n",
        "  num = num//10\n",
        "print(\"The Sum of the Digits are: \",sum)"
      ],
      "metadata": {
        "colab": {
          "base_uri": "https://localhost:8080/"
        },
        "id": "ruyxZy9gtCp4",
        "outputId": "4b159b99-4f79-4385-bf1e-67fd0df28435"
      },
      "execution_count": 10,
      "outputs": [
        {
          "output_type": "stream",
          "name": "stdout",
          "text": [
            "Enter your Number to be Caluclated Digit's Sum: 234\n",
            "The Sum of the Digits are:  9\n"
          ]
        }
      ]
    },
    {
      "cell_type": "code",
      "source": [
        "#Q3)\n",
        "import math as mt\n",
        "import numpy as np\n",
        "def isPrime(n):\n",
        "  if(n>=2):\n",
        "    for i in range(2,int(mt.sqrt(n))):\n",
        "      if(n%i==0):\n",
        "        return False\n",
        "    return True\n",
        "  else:\n",
        "    return False\n",
        "num = list(np.random.randint(1,70, size=7))\n",
        "for items in num:\n",
        "  print(\"Is Number {} prime: {}\".format(items, isPrime(items)))"
      ],
      "metadata": {
        "colab": {
          "base_uri": "https://localhost:8080/"
        },
        "id": "0oF3ECgZuLfl",
        "outputId": "bab0ffb1-e87d-4630-9dae-8d0f11d97ba3"
      },
      "execution_count": 55,
      "outputs": [
        {
          "output_type": "stream",
          "name": "stdout",
          "text": [
            "Is Number 4 prime: True\n",
            "Is Number 62 prime: False\n",
            "Is Number 25 prime: True\n",
            "Is Number 33 prime: False\n",
            "Is Number 11 prime: True\n",
            "Is Number 46 prime: False\n",
            "Is Number 65 prime: False\n"
          ]
        }
      ]
    },
    {
      "cell_type": "code",
      "source": [
        "#Q4)\n",
        "def isPalin(st):\n",
        "  return st == st[::-1]\n",
        "st = input(\"Enter your String: \")\n",
        "print(\"Is your String %s Plaindrome (Case Sensitivly): %s\" % (st,isPalin(st)))\n",
        "print(\"Is your String %s Plaindrome (Ignoring Case Sensitivity): %s\" % (st.lower(),isPalin(st.lower())))"
      ],
      "metadata": {
        "colab": {
          "base_uri": "https://localhost:8080/"
        },
        "id": "_S35LxKiwVwk",
        "outputId": "34b7e333-f0ec-4ad1-a035-16290ac3ea5b"
      },
      "execution_count": 52,
      "outputs": [
        {
          "output_type": "stream",
          "name": "stdout",
          "text": [
            "Enter your String: Madam\n",
            "Is your String Madam Plaindrome (Case Sensitivly): False\n",
            "Is your String madam Plaindrome (Ignoring Case Sensitivity): True\n"
          ]
        }
      ]
    },
    {
      "cell_type": "code",
      "source": [
        "#Q5)\n",
        "import numpy as np\n",
        "arr1=np.arange(1,10).reshape(3,3)\n",
        "arr2=np.array([[1,6,4],[3,2,6],[4,10,3]])\n",
        "print(\"Matrix A :\\n\",arr1)\n",
        "print(\"Matrix B :\\n\",arr2)\n",
        "print(\"Matrix Multiplication:\\n\",arr1.dot(arr2))\n",
        "print(\"\\nDeterminant of Matrix B:\\n\",np.linalg.det(arr2))\n",
        "inv=np.linalg.inv(arr2)\n",
        "print(\"\\nInverse of Matrix B:\\n\",inv)\n",
        "print(\"Verification: (Multiplying Inverse to original Matrix B) :\\n\",arr2.dot(inv))\n",
        "print(\"Verdict: \",np.allclose(arr2.dot(inv),np.identity(3)))"
      ],
      "metadata": {
        "colab": {
          "base_uri": "https://localhost:8080/"
        },
        "id": "JM_y4-Iiwypj",
        "outputId": "251996bb-f92d-4d5a-ba00-4660911450de"
      },
      "execution_count": 23,
      "outputs": [
        {
          "output_type": "stream",
          "name": "stdout",
          "text": [
            "Matrix A :\n",
            " [[1 2 3]\n",
            " [4 5 6]\n",
            " [7 8 9]]\n",
            "Matrix B :\n",
            " [[ 1  6  4]\n",
            " [ 3  2  6]\n",
            " [ 4 10  3]]\n",
            "Matrix Multiplication:\n",
            " [[ 19  40  25]\n",
            " [ 43  94  64]\n",
            " [ 67 148 103]]\n",
            "\n",
            "Determinant of Matrix B:\n",
            " 124.00000000000003\n",
            "\n",
            "Inverse of Matrix B:\n",
            " [[-0.43548387  0.17741935  0.22580645]\n",
            " [ 0.12096774 -0.10483871  0.0483871 ]\n",
            " [ 0.17741935  0.11290323 -0.12903226]]\n",
            "Verification: (Multiplying Inverse to original Matrix B):\n",
            " [[ 1.00000000e+00 -1.11022302e-16  0.00000000e+00]\n",
            " [-5.55111512e-17  1.00000000e+00  1.11022302e-16]\n",
            " [-2.77555756e-17 -8.32667268e-17  1.00000000e+00]]\n",
            "Verdict:  True\n"
          ]
        }
      ]
    },
    {
      "cell_type": "code",
      "source": [
        "#Q6)\n",
        "from numpy import random\n",
        "ar1=random.randint(1,10,10)\n",
        "print(ar1)\n",
        "ar2=random.randint(1,10,10)\n",
        "print(ar2)\n",
        "print(\"\\n1st Array > 2nd Array:\", ar1 > ar2)\n",
        "print(\"1st Array < 2nd Array:\", ar1 < ar2)\n",
        "print(\"1st Array == 2nd Array:\", ar1 == ar2)\n",
        "count_greater=np.sum(ar1>ar2)\n",
        "print(\"\\nThe Number of Elements greater than the 2nd Array is: \",count_greater)"
      ],
      "metadata": {
        "colab": {
          "base_uri": "https://localhost:8080/"
        },
        "id": "ezf0uZpQygWi",
        "outputId": "b3811bdc-14bd-441a-9f7a-93d13bed3190"
      },
      "execution_count": 29,
      "outputs": [
        {
          "output_type": "stream",
          "name": "stdout",
          "text": [
            "[8 2 8 8 5 2 8 3 5 1]\n",
            "[4 8 8 8 8 7 2 3 1 5]\n",
            "\n",
            "1st Array > 2nd Array: [ True False False False False False  True False  True False]\n",
            "1st Array < 2nd Array: [False  True False False  True  True False False False  True]\n",
            "1st Array == 2nd Array: [False False  True  True False False False  True False False]\n",
            "\n",
            "The Number of Elements greater than the 2nd Array is:  3\n"
          ]
        }
      ]
    },
    {
      "cell_type": "code",
      "source": [
        "#Q7)\n",
        "marks = []\n",
        "for i in range(10):\n",
        "    marks.append(random.randint(0,101))\n",
        "print(\"Marks are: \",marks)\n",
        "arr = np.array(marks)\n",
        "print(\"Average scored is: \",arr.mean())\n",
        "print(\"Marks which are above average: \", arr[arr>arr.mean()])"
      ],
      "metadata": {
        "colab": {
          "base_uri": "https://localhost:8080/"
        },
        "id": "2_XP_dF90wyo",
        "outputId": "7ec9f320-984a-47ac-f8bd-099643a14096"
      },
      "execution_count": 30,
      "outputs": [
        {
          "output_type": "stream",
          "name": "stdout",
          "text": [
            "Marks are:  [58, 36, 84, 15, 88, 89, 18, 10, 10, 64]\n",
            "Average scored is:  47.2\n",
            "Marks which are above average:  [58 84 88 89 64]\n"
          ]
        }
      ]
    },
    {
      "cell_type": "code",
      "source": [
        "#Q8)\n",
        "arr = np.arange(1,17).reshape(4,4)\n",
        "print(\"Original Matrix:\\n\",arr)\n",
        "print(\"Second Row:\\n \",arr[1:2])\n",
        "print(\"Third column:\\n \",arr[:,2:3])\n",
        "print(\"Sub-Matix 2x2 From Bottom Right:\\n\",arr[-2:,-2:])    #We could also use arr[2:5,2:5]"
      ],
      "metadata": {
        "colab": {
          "base_uri": "https://localhost:8080/"
        },
        "id": "9hsshOhY24VG",
        "outputId": "55e6e412-ebaa-4d25-80a3-6b0e9250b0ba"
      },
      "execution_count": 38,
      "outputs": [
        {
          "output_type": "stream",
          "name": "stdout",
          "text": [
            "Original Matrix:\n",
            " [[ 1  2  3  4]\n",
            " [ 5  6  7  8]\n",
            " [ 9 10 11 12]\n",
            " [13 14 15 16]]\n",
            "Second Row:\n",
            "  [[5 6 7 8]]\n",
            "Third column:\n",
            "  [[ 3]\n",
            " [ 7]\n",
            " [11]\n",
            " [15]]\n",
            "Sub-Matix 2x2 From Bottom Right:\n",
            " [[11 12]\n",
            " [15 16]]\n"
          ]
        }
      ]
    },
    {
      "cell_type": "code",
      "source": [
        "#Q9\n",
        "arr=np.arange(1,13).reshape(3,4)\n",
        "print(\"Original:(3x4)\\n\",arr)\n",
        "\n",
        "print(\"Reshaping into (4x3):\\n\",arr.reshape(4,3))\n",
        "\n",
        "print(\"Reshaping into (6x2):\\n\",arr.reshape(2,6))\n",
        "\n",
        "print(\"Ravel (Flats into 1D):\\n\",arr.ravel())"
      ],
      "metadata": {
        "colab": {
          "base_uri": "https://localhost:8080/"
        },
        "id": "XJfoLjQM3vzj",
        "outputId": "e8fac134-53f4-4676-94a4-cf9d6319b511"
      },
      "execution_count": 42,
      "outputs": [
        {
          "output_type": "stream",
          "name": "stdout",
          "text": [
            "Original:(3x4)\n",
            " [[ 1  2  3  4]\n",
            " [ 5  6  7  8]\n",
            " [ 9 10 11 12]]\n",
            "Reshaping into (4x3):\n",
            " [[ 1  2  3]\n",
            " [ 4  5  6]\n",
            " [ 7  8  9]\n",
            " [10 11 12]]\n",
            "Reshaping into (6x2):\n",
            " [[ 1  2  3  4  5  6]\n",
            " [ 7  8  9 10 11 12]]\n",
            "Ravel (Flats into 1D):\n",
            " [ 1  2  3  4  5  6  7  8  9 10 11 12]\n"
          ]
        }
      ]
    },
    {
      "cell_type": "code",
      "source": [
        "#10)\n",
        "import numpy as np\n",
        "\n",
        "sample = np.random.randint(1, 7, size=1000)\n",
        "\n",
        "freq = {face: np.count_nonzero(sample == face) for face in range(1, 7)}\n",
        "\n",
        "print(\"Sample Rolls:\\n\", sample)\n",
        "print(\"\\nFrequency of Rolling Dice:\\n\", freq)"
      ],
      "metadata": {
        "colab": {
          "base_uri": "https://localhost:8080/"
        },
        "id": "qDU0C4zk4crK",
        "outputId": "6f3175c5-aa64-46b0-b7bd-d685ef810c16"
      },
      "execution_count": 45,
      "outputs": [
        {
          "output_type": "stream",
          "name": "stdout",
          "text": [
            "Sample Rolls:\n",
            " [2 1 3 2 1 3 6 3 2 5 4 4 2 1 6 6 2 2 6 2 3 1 4 5 4 2 6 2 5 5 6 3 5 4 4 4 1\n",
            " 3 6 3 4 2 4 2 1 6 5 2 3 5 4 6 3 5 1 5 3 2 6 3 3 1 4 3 1 6 6 3 2 5 1 1 1 5\n",
            " 2 3 2 4 6 2 4 4 4 4 4 1 2 3 5 6 1 3 1 6 6 4 4 4 5 6 6 4 4 3 4 1 4 4 5 4 2\n",
            " 2 5 5 4 5 2 5 3 5 5 6 6 4 2 4 1 4 6 2 5 5 3 2 4 2 3 3 2 2 5 1 5 5 1 3 3 1\n",
            " 6 4 1 2 2 3 6 2 1 4 2 4 2 4 4 2 3 6 3 3 2 1 5 3 5 5 3 2 6 1 4 6 6 1 3 6 3\n",
            " 2 4 5 2 5 5 2 6 1 5 2 4 4 4 6 3 4 6 6 5 6 6 5 2 5 2 4 3 6 2 4 5 4 3 2 5 2\n",
            " 5 3 1 4 4 5 2 3 1 4 2 3 2 5 4 6 1 3 2 6 1 4 2 3 5 3 5 2 1 5 4 5 3 3 5 5 6\n",
            " 3 5 4 3 6 5 4 4 4 4 5 5 2 5 5 2 3 2 3 4 2 3 3 5 2 5 5 5 5 2 1 5 2 1 4 5 6\n",
            " 6 3 5 5 4 6 2 2 2 2 2 5 5 6 2 3 3 5 3 1 6 1 1 4 1 5 2 4 5 6 5 3 2 4 2 1 3\n",
            " 3 1 1 1 5 3 3 4 3 4 3 6 1 6 4 3 4 1 5 3 1 3 5 2 4 6 2 5 1 4 5 1 2 5 1 3 1\n",
            " 5 3 3 6 6 4 3 3 3 1 5 4 2 4 1 4 2 1 5 6 5 2 1 4 3 3 1 3 1 4 3 6 5 2 5 1 6\n",
            " 4 4 4 1 1 3 2 5 1 4 4 2 3 6 2 4 3 1 5 5 4 6 2 2 2 3 1 4 6 4 1 5 1 4 6 5 5\n",
            " 3 3 6 2 5 2 1 2 2 3 4 1 6 2 1 6 3 4 3 4 1 2 1 6 6 6 6 4 3 6 1 5 1 5 4 3 3\n",
            " 4 5 3 2 2 5 5 4 1 6 4 4 6 1 5 3 3 3 4 2 4 4 6 3 2 5 5 4 6 2 3 1 2 6 2 6 1\n",
            " 3 2 2 3 6 2 3 1 3 6 5 1 4 2 5 4 5 3 2 6 3 1 1 5 2 3 2 2 5 3 6 5 4 6 2 6 5\n",
            " 4 2 3 2 6 6 2 5 2 1 5 2 6 6 1 4 6 3 3 5 5 5 4 4 4 6 5 2 6 2 3 2 6 4 6 6 3\n",
            " 5 1 4 4 5 5 1 2 1 6 3 1 2 3 1 3 6 6 3 1 1 6 6 6 3 3 1 1 5 6 1 1 3 4 4 1 6\n",
            " 4 1 2 6 6 6 2 1 4 2 2 4 5 1 1 2 4 2 4 5 1 3 5 4 2 6 5 6 4 3 6 3 3 3 5 5 5\n",
            " 3 5 6 1 6 6 4 6 3 1 2 3 4 5 1 5 6 1 3 4 5 4 3 5 3 6 6 4 4 3 6 4 1 3 1 5 6\n",
            " 1 1 5 3 5 5 6 4 2 3 2 5 4 6 4 4 3 3 6 3 2 6 5 5 2 5 5 4 4 6 6 2 2 1 3 6 6\n",
            " 3 3 5 2 4 4 5 4 4 4 2 4 2 2 2 2 3 3 6 4 3 2 4 6 4 6 5 4 2 3 5 4 5 2 3 5 3\n",
            " 3 6 4 5 5 5 1 3 4 2 5 1 3 3 1 5 6 3 5 5 3 3 6 6 4 1 2 3 2 2 4 2 3 3 3 3 2\n",
            " 6 1 4 6 2 1 5 1 3 1 5 4 3 3 2 1 3 1 2 5 6 6 2 6 5 3 1 2 5 3 6 1 2 2 6 4 4\n",
            " 2 4 1 3 6 2 5 1 1 5 6 2 2 6 3 6 2 1 5 2 4 6 5 6 5 6 2 6 6 6 3 5 3 2 6 6 3\n",
            " 2 2 3 5 6 3 3 6 4 1 5 1 2 6 5 2 5 4 4 1 1 1 3 5 1 3 5 4 5 6 2 5 5 6 2 3 2\n",
            " 3 6 3 5 6 6 6 4 4 3 3 2 3 3 1 6 1 4 1 1 4 3 1 1 6 2 4 1 1 1 4 5 5 5 5 1 1\n",
            " 6 2 3 2 4 3 3 4 2 3 2 5 2 3 3 3 1 2 6 6 3 2 5 4 3 6 3 1 1 4 1 1 5 6 3 3 5\n",
            " 3]\n",
            "\n",
            "Frequency of Rolling Dice:\n",
            " {1: 143, 2: 171, 3: 187, 4: 165, 5: 174, 6: 160}\n"
          ]
        }
      ]
    }
  ]
}