{
 "cells": [
  {
   "cell_type": "code",
   "execution_count": 19,
   "id": "1ed6aff8",
   "metadata": {},
   "outputs": [
    {
     "name": "stdout",
     "output_type": "stream",
     "text": [
      "[[ 0  1  2  3  4  5]\n",
      " [ 6  7  8  9 10 11]\n",
      " [12 13 14 15 16 17]\n",
      " [18 19 20 21 22 23]]\n"
     ]
    }
   ],
   "source": [
    "import numpy as np\n",
    "#arr = np.array([2,2,3])\n",
    "arr = np.arange(24).reshape(4,6)\n",
    "#arr1 = np.zeros(arr)\n",
    "print(arr)\n",
    "\n",
    "#arange gives only "
   ]
  },
  {
   "cell_type": "code",
   "execution_count": 24,
   "id": "a5195d34",
   "metadata": {},
   "outputs": [
    {
     "name": "stdout",
     "output_type": "stream",
     "text": [
      "[[1. 0. 0. 0.]\n",
      " [0. 1. 0. 0.]\n",
      " [0. 0. 1. 0.]]\n"
     ]
    }
   ],
   "source": [
    "arr2 = np.eye(3,4)\n",
    "print(arr2)"
   ]
  },
  {
   "cell_type": "code",
   "execution_count": 43,
   "id": "05de8830",
   "metadata": {},
   "outputs": [
    {
     "name": "stdout",
     "output_type": "stream",
     "text": [
      "[1.  2.  3.  4.  5.7]\n",
      "[1 2 3 4 5]\n",
      "[1.  2.  3.  4.  5.7]\n"
     ]
    }
   ],
   "source": [
    "arr = np.array([1.0,2,3,4,5.7])\n",
    "arr1 = np.int64(arr)\n",
    "arr2 = arr.astype(np.float64)\n",
    "print(arr)\n",
    "print(arr1)\n",
    "print(arr2)                 "
   ]
  },
  {
   "cell_type": "code",
   "execution_count": 101,
   "id": "5ef115a5",
   "metadata": {},
   "outputs": [
    {
     "name": "stdout",
     "output_type": "stream",
     "text": [
      "[[1 2]\n",
      " [3 4]]\n",
      "[[1]]\n"
     ]
    }
   ],
   "source": [
    "#Indexing & Slicing\n",
    "#1D Array\n",
    "# arr = np.arange(0,100,5)\n",
    "# print(arr)\n",
    "# print(arr[2:16:3])\n",
    "\n",
    "\n",
    "\n",
    "# #2D Array\n",
    "# arr = np.arange(0,100,5).reshape(4,5)\n",
    "# print(arr)\n",
    "# print(arr[0:2,2:4])\n",
    "\n",
    "# arr = np.arange(1,5).reshape(2,2)\n",
    "# print(arr)\n",
    "# print(arr[0:1,0:1])\n",
    "\n",
    "\n",
    "\n",
    "#3D Array\n",
    "# arr = np.arange(0,100).reshape(4,5,5)\n",
    "# print(arr)\n",
    "# print(\"\\nAfter Considering only 1st Matrix: \")\n",
    "# print(arr[0:1])\n",
    "\n",
    "# print(\"\\nAfter Considering only 1st Row in all Matrix: \")\n",
    "# print(arr[0:4,0:1,0:5])\n",
    "\n",
    "# print(\"\\nAfter Considering only 1st Coloumns in all Matrix: \")\n",
    "# print(arr[0:4,0:5,0:1])\n",
    "\n",
    "# print(\"\\nAfter Considering only 4th Matrix: \")\n",
    "# print(arr[0:4,0:2,0:2])"
   ]
  },
  {
   "cell_type": "code",
   "execution_count": 116,
   "id": "92676975",
   "metadata": {},
   "outputs": [
    {
     "name": "stdout",
     "output_type": "stream",
     "text": [
      "[ 0  1  2  3  4  5  6  7  8  9 10 11]\n",
      "[1 4 5]\n",
      "[ True False False False  True False False False  True False False False]\n",
      "[0 4 8]\n",
      "[ True False False  True False False  True False False  True False False]\n",
      "[-100    1    2 -100    4    5 -100    7    8 -100   10   11]\n"
     ]
    }
   ],
   "source": [
    "# #Boolean Indexing \n",
    "# arr = np.arange(12)\n",
    "# print(arr)\n",
    "# indexes = [1,4,5]\n",
    "# print(arr[indexes])\n",
    "\n",
    "# #Copy after creating the Mask\n",
    "# mask1 = arr%4==0                  #Creating the Multiples of 4\n",
    "# print(mask)\n",
    "# print(arr[mask])\n",
    "# arr2 = arr.copy()\n",
    "\n",
    "# mask2 = arr2%3==0\n",
    "# print(mask2)\n",
    "# arr2[mask2] =- 100\n",
    "# print(arr2)"
   ]
  },
  {
   "cell_type": "code",
   "execution_count": 134,
   "id": "d3caa0cd",
   "metadata": {},
   "outputs": [
    {
     "name": "stdout",
     "output_type": "stream",
     "text": [
      "[[ 0  1  2  3  4  5  6]\n",
      " [ 7  8  9 10 11 12 13]]\n",
      "[[0.         1.         1.41421356 1.73205081 2.         2.23606798\n",
      "  2.44948974]\n",
      " [2.64575131 2.82842712 3.         3.16227766 3.31662479 3.46410162\n",
      "  3.60555128]]\n",
      "91\n",
      "[ 7  9 11 13 15 17 19]\n",
      "[21 70]\n",
      "6.5\n",
      "[ 0  1  3  6 10 15 21 28 36 45 55 66 78 91]\n",
      "[[ 0  1  3  6 10 15 21]\n",
      " [ 7 15 24 34 45 57 70]]\n",
      "[[ 0  1  2  3  4  5  6]\n",
      " [ 7  9 11 13 15 17 19]]\n"
     ]
    }
   ],
   "source": [
    "#Common Fucntions, (ufuncs)\n",
    "arr = np.arange(14).reshape(2,7)\n",
    "print(arr)\n",
    "\n",
    "#1) Sqaure Root\n",
    "arr_sq = np.sqrt(arr)\n",
    "print(arr_sq)\n",
    "\n",
    "#2) Sum\n",
    "arr_sm = np.sum(arr)\n",
    "print(arr_sm)\n",
    "\n",
    "#3) Sum of Coloumns\n",
    "arr_sm = np.sum(arr,0)\n",
    "print(arr_sm)\n",
    "\n",
    "#4) Sum of Rows\n",
    "arr_sm = np.sum(arr,1)\n",
    "print(arr_sm)\n",
    "\n",
    "#5) Mean\n",
    "arr_mean = np.mean(arr)\n",
    "print(arr_mean)\n",
    "\n",
    "\n",
    "\n",
    "#7) CUmulative Sum\n",
    "arr_sm = np.cumsum(arr)        #Whole Sum\n",
    "print(arr_sm)\n",
    "\n",
    "arr_sm = np.cumsum(arr,axis=1)        #Coloumn wise Sum\n",
    "print(arr_sm)\n",
    "\n",
    "arr_sm = np.cumsum(arr,axis=0)        #Row wise Sum\n",
    "print(arr_sm)"
   ]
  },
  {
   "cell_type": "code",
   "execution_count": 150,
   "id": "5b737f9f",
   "metadata": {},
   "outputs": [
    {
     "name": "stdout",
     "output_type": "stream",
     "text": [
      "1D Array:  [ 0  1  2  3  4  5  6  7  8  9 10 11 12 13 14 15 16 17 18 19 20 21 22 23\n",
      " 24 25 26 27 28 29 30 31 32 33 34 35 36 37 38 39 40 41 42 43 44 45 46 47\n",
      " 48 49 50 51 52 53 54 55 56 57 58 59 60 61 62 63 64 65 66 67 68 69 70 71\n",
      " 72 73 74 75 76 77 78 79 80 81 82 83 84 85 86 87 88 89 90 91 92 93 94 95\n",
      " 96 97 98 99]\n",
      "2D Array:  [[ 0  1  2  3  4  5  6  7  8  9]\n",
      " [10 11 12 13 14 15 16 17 18 19]\n",
      " [20 21 22 23 24 25 26 27 28 29]\n",
      " [30 31 32 33 34 35 36 37 38 39]\n",
      " [40 41 42 43 44 45 46 47 48 49]\n",
      " [50 51 52 53 54 55 56 57 58 59]\n",
      " [60 61 62 63 64 65 66 67 68 69]\n",
      " [70 71 72 73 74 75 76 77 78 79]\n",
      " [80 81 82 83 84 85 86 87 88 89]\n",
      " [90 91 92 93 94 95 96 97 98 99]]\n",
      "0.0\n"
     ]
    }
   ],
   "source": [
    "#Linear Algebra\n",
    "arr1 = np.arange(100)\n",
    "arr2 = arr1.reshape(10,10)\n",
    "print(\"1D Array: \",arr1)\n",
    "print(\"2D Array: \",arr2)\n",
    "\n",
    "\n",
    "x = np.linalg.det(arr2)\n",
    "print(x)"
   ]
  },
  {
   "cell_type": "code",
   "execution_count": 159,
   "id": "3c988eb5",
   "metadata": {},
   "outputs": [
    {
     "name": "stdout",
     "output_type": "stream",
     "text": [
      "[[0.60663117 0.35927151 0.58900024]\n",
      " [0.26102558 0.03059563 0.59348585]]\n"
     ]
    }
   ],
   "source": [
    "#Random Numbers\n",
    "rand_arr = arr.random((2,3))\n",
    "print(rand_arr)"
   ]
  },
  {
   "cell_type": "code",
   "execution_count": null,
   "id": "274f4768",
   "metadata": {},
   "outputs": [],
   "source": []
  }
 ],
 "metadata": {
  "kernelspec": {
   "display_name": "Python 3 (ipykernel)",
   "language": "python",
   "name": "python3"
  },
  "language_info": {
   "codemirror_mode": {
    "name": "ipython",
    "version": 3
   },
   "file_extension": ".py",
   "mimetype": "text/x-python",
   "name": "python",
   "nbconvert_exporter": "python",
   "pygments_lexer": "ipython3",
   "version": "3.9.17"
  }
 },
 "nbformat": 4,
 "nbformat_minor": 5
}
