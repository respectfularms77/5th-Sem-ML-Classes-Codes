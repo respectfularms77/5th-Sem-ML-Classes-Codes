{
 "cells": [
  {
   "cell_type": "code",
   "execution_count": 9,
   "id": "07ea853e-cc20-4631-a77c-03225c5fa13b",
   "metadata": {},
   "outputs": [
    {
     "name": "stdout",
     "output_type": "stream",
     "text": [
      "Array:  [ 1  2  3  4  5  6  7  8  9 10 11]\n",
      "Indexes:  [1, 4, 7]\n",
      "Choosen Indexes:  [2 5 8]\n",
      "\n",
      "Masked Number:  [False False  True False False  True False False  True False False]\n",
      "Masked Numbers at Indexes:  [3 6 9]\n",
      "\n",
      " [ 1  2  3  4  5  6  7  8  9 10 11]\n",
      "[False False  True False False  True False False  True False False]\n",
      "[ 1  2 -1  4  5 -1  7  8 -1 10 11]\n"
     ]
    }
   ],
   "source": [
    "\n",
    "#Boolean Indexing and Function Copying\n",
    "\n",
    "import numpy as np\n",
    "m1 = np.arange(1,12)\n",
    "index = [1,4,7]\n",
    "print(\"Array: \",m1)\n",
    "print(\"Indexes: \",index)\n",
    "print(\"Choosen Indexes: \",m1[index])\n",
    "\n",
    "#Masking a Masking Function \n",
    "mask = m1%3==0\n",
    "print(\"\\nMasked Number: \",mask)\n",
    "print(\"Masked Numbers at Indexes: \",m1[mask])\n",
    "\n",
    "#Copying A Function\n",
    "m2 = m1.copy()\n",
    "print(\"\\n\",m2)\n",
    "print(m2%3==0)\n",
    "m2[m2%3==0]=-1\n",
    "print(\"After Replacing all the Numbers in Matrix 2: \",m2)\n",
    "\n",
    "\n"
   ]
  },
  {
   "cell_type": "code",
   "execution_count": 37,
   "id": "50a96a60-c741-42a8-b750-84daa0438549",
   "metadata": {},
   "outputs": [
    {
     "name": "stdout",
     "output_type": "stream",
     "text": [
      "Original Singular Array: \n",
      " [[1. 1. 1.]\n",
      " [1. 1. 1.]\n",
      " [1. 1. 1.]]\n",
      "Determinant of Original Singular Array:  0.0\n",
      "Inverse Doesn't Exists\n",
      "\n",
      "Original 2nd Array: \n",
      " [[1 2 3]\n",
      " [4 5 6]\n",
      " [7 8 9]]\n",
      "Determinant of 2nd Array:  -9.51619735392994e-16\n",
      "Inverse of 2nd Array: \n",
      " [[ 3.15251974e+15 -6.30503948e+15  3.15251974e+15]\n",
      " [-6.30503948e+15  1.26100790e+16 -6.30503948e+15]\n",
      " [ 3.15251974e+15 -6.30503948e+15  3.15251974e+15]]\n",
      "1st Method: \n",
      " [[[12 13 11]\n",
      "  [10  7 10]\n",
      "  [10  6 10]]\n",
      "\n",
      " [[11  7  6]\n",
      "  [ 9  8  8]\n",
      "  [ 8  9  5]]]\n",
      "2nd Method: \n",
      " [[ 9  7 13 12]\n",
      " [ 7  7  9  5]\n",
      " [ 8  9 11  5]]\n"
     ]
    }
   ],
   "source": [
    "#Inversing a Array using \n",
    "\n",
    "a1 = np.ones((3,3))\n",
    "print(\"Original Singular Array: \\n\",a1)\n",
    "print(\"Determinant of Original Singular Array: \",np.linalg.det(a1))\n",
    "if (np.linalg.det(a1)):\n",
    "    a2 = np.linalg.inv(a1)\n",
    "    print(\"Inverse of Singular Array: \\n\",a2)\n",
    "else:\n",
    "    print(\"Inverse Doesn't Exists\")\n",
    "    \n",
    "    \n",
    "a2 = np.arange(1,10).reshape(3,3)\n",
    "print(\"\\nOriginal 2nd Array: \\n\",a2)\n",
    "print(\"Determinant of 2nd Array: \",np.linalg.det(a2))\n",
    "a2 = np.linalg.inv(a2)\n",
    "print(\"Inverse of 2nd Array: \\n\",a2)\n",
    "\n",
    "#Random Integer Generation and shaping them into the Matrix\n",
    "a4 = np.random.randint(5,15, size=(2,3,3))\n",
    "print(\"1st Method: \\n\",a4)\n",
    "a5 = np.random.randint(5,15,12).reshape(3,4)\n",
    "print(\"2nd Method: \\n\",a5)"
   ]
  },
  {
   "cell_type": "code",
   "execution_count": null,
   "id": "c0a2191d-f04d-436d-b80b-7d46b9fbe21e",
   "metadata": {},
   "outputs": [],
   "source": []
  }
 ],
 "metadata": {
  "kernelspec": {
   "display_name": "Python 3 (ipykernel)",
   "language": "python",
   "name": "python3"
  },
  "language_info": {
   "codemirror_mode": {
    "name": "ipython",
    "version": 3
   },
   "file_extension": ".py",
   "mimetype": "text/x-python",
   "name": "python",
   "nbconvert_exporter": "python",
   "pygments_lexer": "ipython3",
   "version": "3.9.17"
  }
 },
 "nbformat": 4,
 "nbformat_minor": 5
}
