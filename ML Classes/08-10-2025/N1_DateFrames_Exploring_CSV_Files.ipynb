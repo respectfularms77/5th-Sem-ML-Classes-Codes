{
 "cells": [
  {
   "cell_type": "code",
   "execution_count": 3,
   "id": "553f0776",
   "metadata": {
    "scrolled": true
   },
   "outputs": [
    {
     "name": "stdout",
     "output_type": "stream",
     "text": [
      "    Name  Age Quote\n",
      "0  Arpit   20     A\n",
      "1  Arpan   22     R\n",
      "2  Arkan   24     K\n",
      "3  Ankan   20     N\n"
     ]
    }
   ],
   "source": [
    "#Simply using Dataframe\n",
    "\n",
    "import pandas as pd\n",
    "# Original data with two new key-value pairs\n",
    "data = {\n",
    "    'Name': ['Arpit', 'Arpan', 'Arkan', 'Ankan'],\n",
    "    'Age': [20, 22, 24, 20],\n",
    "    'Quote': ['A', 'R', 'K', 'N'],\n",
    "    'City': ['Delhi', 'Mumbai', 'Kolkata', 'Pune'],  \n",
    "    'Salary': [50000, 60000, 75000, 50000]      \n",
    "}\n",
    "\n",
    "df = pd.DataFrame(data)\n",
    "print(df)"
   ]
  },
  {
   "cell_type": "code",
   "execution_count": 9,
   "id": "1669af60",
   "metadata": {},
   "outputs": [
    {
     "name": "stdout",
     "output_type": "stream",
     "text": [
      "    Name   Age Quote    City   Salary\n",
      "0  Arpit  20.0     A   Delhi  50000.0\n",
      "1  Arpan  22.0   NaN  Mumbai      NaN\n",
      "2    NaN  24.0     K     NaN  75000.0\n",
      "3  Ankan   NaN     N    Pune  50000.0\n"
     ]
    }
   ],
   "source": [
    "#Giving up the missing Values using the Numpy\n",
    "import numpy as np\n",
    "import pandas as pd\n",
    "data1 = {\n",
    "    'Name': ['Arpit', 'Arpan', np.nan , 'Ankan'],\n",
    "    'Age': [20, 22, 24, np.nan],\n",
    "    'Quote': ['A', np.nan, 'K', 'N'],\n",
    "    'City': ['Delhi', 'Mumbai', np.nan , 'Pune'],  \n",
    "    'Salary': [50000, np.nan, 75000, 50000]      \n",
    "}\n",
    "df1 = pd.DataFrame(data1)\n",
    "print(df1)"
   ]
  },
  {
   "cell_type": "code",
   "execution_count": 22,
   "id": "84a57da1",
   "metadata": {},
   "outputs": [
    {
     "data": {
      "text/html": [
       "<div>\n",
       "<style scoped>\n",
       "    .dataframe tbody tr th:only-of-type {\n",
       "        vertical-align: middle;\n",
       "    }\n",
       "\n",
       "    .dataframe tbody tr th {\n",
       "        vertical-align: top;\n",
       "    }\n",
       "\n",
       "    .dataframe thead th {\n",
       "        text-align: right;\n",
       "    }\n",
       "</style>\n",
       "<table border=\"1\" class=\"dataframe\">\n",
       "  <thead>\n",
       "    <tr style=\"text-align: right;\">\n",
       "      <th></th>\n",
       "      <th>Name</th>\n",
       "      <th>Age</th>\n",
       "      <th>Quote</th>\n",
       "      <th>City</th>\n",
       "      <th>Salary</th>\n",
       "    </tr>\n",
       "  </thead>\n",
       "  <tbody>\n",
       "    <tr>\n",
       "      <th>0</th>\n",
       "      <td>Arpit</td>\n",
       "      <td>20.0</td>\n",
       "      <td>A</td>\n",
       "      <td>Delhi</td>\n",
       "      <td>50000.0</td>\n",
       "    </tr>\n",
       "    <tr>\n",
       "      <th>1</th>\n",
       "      <td>Arpan</td>\n",
       "      <td>22.0</td>\n",
       "      <td>NaN</td>\n",
       "      <td>Mumbai</td>\n",
       "      <td>NaN</td>\n",
       "    </tr>\n",
       "    <tr>\n",
       "      <th>2</th>\n",
       "      <td>NaN</td>\n",
       "      <td>24.0</td>\n",
       "      <td>K</td>\n",
       "      <td>NaN</td>\n",
       "      <td>75000.0</td>\n",
       "    </tr>\n",
       "    <tr>\n",
       "      <th>3</th>\n",
       "      <td>Ankan</td>\n",
       "      <td>NaN</td>\n",
       "      <td>N</td>\n",
       "      <td>Pune</td>\n",
       "      <td>50000.0</td>\n",
       "    </tr>\n",
       "  </tbody>\n",
       "</table>\n",
       "</div>"
      ],
      "text/plain": [
       "    Name   Age Quote    City   Salary\n",
       "0  Arpit  20.0     A   Delhi  50000.0\n",
       "1  Arpan  22.0   NaN  Mumbai      NaN\n",
       "2    NaN  24.0     K     NaN  75000.0\n",
       "3  Ankan   NaN     N    Pune  50000.0"
      ]
     },
     "execution_count": 22,
     "metadata": {},
     "output_type": "execute_result"
    }
   ],
   "source": [
    "#Accessing Values of the Coloumn\n",
    "#if i then provide INDEX\n",
    "#if i not there then provide LABELS\n",
    "# jahan pe at hey woh LABELS ko indeicate krta hey\n",
    "\n",
    "#LOC and LABEL mein last index INCLUSIVE hota hey\n",
    "#ILOC mein last index EXCLUSIVE hota hey\n",
    "\n",
    "\n",
    "data1 = {\n",
    "    'Name': ['Arpit', 'Arpan', np.nan , 'Ankan'],\n",
    "    'Age': [20, 22, 24, np.nan],\n",
    "    'Quote': ['A', np.nan, 'K', 'N'],\n",
    "    'City': ['Delhi', 'Mumbai', np.nan , 'Pune'],  \n",
    "    'Salary': [50000, np.nan, 75000, 50000]      \n",
    "}\n",
    "df1 = pd.DataFrame(data1)\n",
    "df1.loc[0:'Age']\n",
    "#print(df.iloc[1:2])\n",
    "#df.iat[]\n",
    "#df.at[]"
   ]
  },
  {
   "cell_type": "code",
   "execution_count": 27,
   "id": "5703195a",
   "metadata": {},
   "outputs": [
    {
     "name": "stdout",
     "output_type": "stream",
     "text": [
      "Coverted to CSV \n",
      "\n",
      "Reading and printing the CSV \n",
      "\n",
      "   Unnamed: 0   Name  Age Quote     City  Salary\n",
      "0           0  Arpit   20     A    Delhi   50000\n",
      "1           1  Arpan   22     R   Mumbai   60000\n",
      "2           2  Arkan   24     K  Kolkata   75000\n",
      "3           3  Ankan   20     N     Pune   50000\n",
      "\n",
      "\n",
      "Displayed the CSV Successfuly\n"
     ]
    }
   ],
   "source": [
    "#Creating the CSV File by 1 and to read the csv file use 2           -------->> MANUALLY CSV Creation\n",
    "#1) .to_csv\n",
    "#1) .read_csv\n",
    "#1) print()\n",
    "\n",
    "data = {\n",
    "    'Name': ['Arpit', 'Arpan', 'Arkan', 'Ankan'],\n",
    "    'Age': [20, 22, 24, 20],\n",
    "    'Quote': ['A', 'R', 'K', 'N'],\n",
    "    'City': ['Delhi', 'Mumbai', 'Kolkata', 'Pune'],  \n",
    "    'Salary': [50000, 60000, 75000, 50000]      \n",
    "}\n",
    "\n",
    "df = pd.DataFrame(data)\n",
    "\n",
    "#CSV File Creation\n",
    "df.to_csv('students.csv')\n",
    "print(\"Coverted to CSV \\n\")\n",
    "rd_csv = pd.read_csv('students.csv')\n",
    "print(\"Reading and printing the CSV \\n\")\n",
    "print(rd_csv)\n",
    "print(\"\\n\\nDisplayed the CSV Successfuly\")"
   ]
  },
  {
   "cell_type": "code",
   "execution_count": 34,
   "id": "704212c6",
   "metadata": {},
   "outputs": [
    {
     "name": "stdout",
     "output_type": "stream",
     "text": [
      "From Head auto: \n",
      "    5.1  3.5  1.4  0.2  Iris-setosa\n",
      "0  4.9  3.0  1.4  0.2  Iris-setosa\n",
      "1  4.7  3.2  1.3  0.2  Iris-setosa\n",
      "2  4.6  3.1  1.5  0.2  Iris-setosa\n",
      "3  5.0  3.6  1.4  0.2  Iris-setosa\n",
      "4  5.4  3.9  1.7  0.4  Iris-setosa\n",
      "\n",
      "From Tail auto: \n",
      "      5.1  3.5  1.4  0.2     Iris-setosa\n",
      "144  6.7  3.0  5.2  2.3  Iris-virginica\n",
      "145  6.3  2.5  5.0  1.9  Iris-virginica\n",
      "146  6.5  3.0  5.2  2.0  Iris-virginica\n",
      "147  6.2  3.4  5.4  2.3  Iris-virginica\n",
      "148  5.9  3.0  5.1  1.8  Iris-virginica\n",
      "\n",
      "\n",
      "From Head 10: \n",
      "    5.1  3.5  1.4  0.2  Iris-setosa\n",
      "0  4.9  3.0  1.4  0.2  Iris-setosa\n",
      "1  4.7  3.2  1.3  0.2  Iris-setosa\n",
      "2  4.6  3.1  1.5  0.2  Iris-setosa\n",
      "3  5.0  3.6  1.4  0.2  Iris-setosa\n",
      "4  5.4  3.9  1.7  0.4  Iris-setosa\n",
      "5  4.6  3.4  1.4  0.3  Iris-setosa\n",
      "6  5.0  3.4  1.5  0.2  Iris-setosa\n",
      "7  4.4  2.9  1.4  0.2  Iris-setosa\n",
      "8  4.9  3.1  1.5  0.1  Iris-setosa\n",
      "9  5.4  3.7  1.5  0.2  Iris-setosa\n",
      "\n",
      "From Tail 10: \n",
      "      5.1  3.5  1.4  0.2     Iris-setosa\n",
      "139  6.7  3.1  5.6  2.4  Iris-virginica\n",
      "140  6.9  3.1  5.1  2.3  Iris-virginica\n",
      "141  5.8  2.7  5.1  1.9  Iris-virginica\n",
      "142  6.8  3.2  5.9  2.3  Iris-virginica\n",
      "143  6.7  3.3  5.7  2.5  Iris-virginica\n",
      "144  6.7  3.0  5.2  2.3  Iris-virginica\n",
      "145  6.3  2.5  5.0  1.9  Iris-virginica\n",
      "146  6.5  3.0  5.2  2.0  Iris-virginica\n",
      "147  6.2  3.4  5.4  2.3  Iris-virginica\n",
      "148  5.9  3.0  5.1  1.8  Iris-virginica\n"
     ]
    }
   ],
   "source": [
    "#Loading the CSV File from url by 1 and to read the csv file use 2           -------->> CSV from URL\n",
    "#1) \n",
    "#1) .read_csv\n",
    "#1) print()\n",
    "\n",
    "\n",
    "url = 'http://archive.ics.uci.edu/ml/machine-learning-databases/iris/iris.data'\n",
    "iris = pd.read_csv(url)\n",
    "print(\"From Head auto: \\n\",iris.head())\n",
    "print(\"\\nFrom Tail auto: \\n\",iris.tail())\n",
    "\n",
    "print(\"\\n\\nFrom Head 10: \\n\",iris.head(10))\n",
    "print(\"\\nFrom Tail 10: \\n\",iris.tail(10))"
   ]
  },
  {
   "cell_type": "code",
   "execution_count": 35,
   "id": "b00b9068",
   "metadata": {},
   "outputs": [
    {
     "name": "stdout",
     "output_type": "stream",
     "text": [
      "    Name  Age Quote     City  Salary\n",
      "0  Arpit   20     A    Delhi   50000\n",
      "1  Arpan   22     R   Mumbai   60000\n",
      "2  Arkan   24     K  Kolkata   75000\n",
      "3  Ankan   20     N     Pune   50000\n"
     ]
    }
   ],
   "source": [
    "#Creating the CSV File by 1 and to read the csv file use 2           -------->> EXCEL CREATION MANUAL\n",
    "#1) .to_excel\n",
    "#1) .read_excel\n",
    "#1) print()\n",
    "\n",
    "import pandas as pd\n",
    "data = {\n",
    "    'Name': ['Arpit', 'Arpan', 'Arkan', 'Ankan'],\n",
    "    'Age': [20, 22, 24, 20],\n",
    "    'Quote': ['A', 'R', 'K', 'N'],\n",
    "    'City': ['Delhi', 'Mumbai', 'Kolkata', 'Pune'],  \n",
    "    'Salary': [50000, 60000, 75000, 50000]      \n",
    "}\n",
    "\n",
    "df = pd.DataFrame(data)\n",
    "df.to_excel('students.xlsx')\n",
    "rd_excel = pd.read_excel('students.xlsx',index_col=0)\n",
    "print(rd_excel)"
   ]
  },
  {
   "cell_type": "code",
   "execution_count": 5,
   "id": "b5a81879",
   "metadata": {},
   "outputs": [
    {
     "name": "stdout",
     "output_type": "stream",
     "text": [
      "            Petal_width  Petal_length  Sepal_width  Sepal_length Species_name\n",
      "Species_No                                                                   \n",
      "1                   0.2           1.4          3.5           5.1       Setosa\n",
      "1                   0.2           1.4          3.0           4.9       Setosa\n",
      "1                   0.2           1.3          3.2           4.7       Setosa\n",
      "1                   0.2           1.5          3.1           4.6       Setosa\n",
      "1                   0.2           1.4          3.6           5.0       Setosa\n",
      "1                   0.4           1.7          3.9           5.4       Setosa\n",
      "1                   0.3           1.4          3.4           4.6       Setosa\n",
      "1                   0.2           1.5          3.4           5.0       Setosa\n",
      "1                   0.2           1.4          2.9           4.4       Setosa\n",
      "1                   0.1           1.5          3.1           4.9       Setosa\n"
     ]
    }
   ],
   "source": [
    "#Creating the CSV File by 1 and to read the csv file use 2           -------->> EXCEL DOWNLOADED from URL\n",
    "#1) .to_csv\n",
    "#1) .read_csv\n",
    "#1) print()\n",
    "\n",
    "import pandas as pd\n",
    "rd_iris_excel = pd.read_excel('Iris.xls',index_col=0)\n",
    "print(rd_iris_excel.head(10))"
   ]
  },
  {
   "cell_type": "code",
   "execution_count": 40,
   "id": "f6ff38c3",
   "metadata": {},
   "outputs": [
    {
     "name": "stdout",
     "output_type": "stream",
     "text": [
      "Defaulting to user installation because normal site-packages is not writeable\n",
      "Collecting xlrd\n",
      "  Obtaining dependency information for xlrd from https://files.pythonhosted.org/packages/1a/62/c8d562e7766786ba6587d09c5a8ba9f718ed3fa8af7f4553e8f91c36f302/xlrd-2.0.2-py2.py3-none-any.whl.metadata\n",
      "  Downloading xlrd-2.0.2-py2.py3-none-any.whl.metadata (3.5 kB)\n",
      "Downloading xlrd-2.0.2-py2.py3-none-any.whl (96 kB)\n",
      "\u001b[2K   \u001b[90m━━━━━━━━━━━━━━━━━━━━━━━━━━━━━━━━━━━━━━━━\u001b[0m \u001b[32m96.6/96.6 kB\u001b[0m \u001b[31m2.0 MB/s\u001b[0m eta \u001b[36m0:00:00\u001b[0ma \u001b[36m0:00:01\u001b[0m\n",
      "\u001b[?25hInstalling collected packages: xlrd\n",
      "Successfully installed xlrd-2.0.2\n"
     ]
    }
   ],
   "source": [
    "!pip install xlrd"
   ]
  }
 ],
 "metadata": {
  "kernelspec": {
   "display_name": "Python 3 (ipykernel)",
   "language": "python",
   "name": "python3"
  },
  "language_info": {
   "codemirror_mode": {
    "name": "ipython",
    "version": 3
   },
   "file_extension": ".py",
   "mimetype": "text/x-python",
   "name": "python",
   "nbconvert_exporter": "python",
   "pygments_lexer": "ipython3",
   "version": "3.9.17"
  }
 },
 "nbformat": 4,
 "nbformat_minor": 5
}
