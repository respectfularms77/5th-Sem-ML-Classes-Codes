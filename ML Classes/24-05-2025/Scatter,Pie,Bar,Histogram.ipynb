{
 "cells": [
  {
   "cell_type": "code",
   "execution_count": null,
   "id": "90ed526e-e92a-41f5-8b02-47c65eb9d2f8",
   "metadata": {},
   "outputs": [],
   "source": [
    "import matplotlib.pyplot as plt\n",
    "#2D Plots\n",
    "X_axis = range(-20,21)     # -20 -> 20\n",
    "func = [x**2 for x in X_axis]\n",
    "plt.plot(X_axis,func, 'b', linestyle='dashdot', marker=\"h\")\n",
    "plt.xlabel('X Values')\n",
    "plt.ylabel('Function Values')\n",
    "plt.title('Parabolic Graph')\n",
    "plt.show()"
   ]
  },
  {
   "cell_type": "code",
   "execution_count": null,
   "id": "fe2fc0af-f8f4-45b0-8926-366883422323",
   "metadata": {},
   "outputs": [],
   "source": [
    "# Plotting Sin X and Cos X\n",
    "import matplotlib.pyplot as plt\n",
    "import numpy as np\n",
    "X = np.linspace(0,2*np.pi,100)\n",
    "sin =np.sin(X)\n",
    "cos=np.cos(X)\n",
    "plt.plot(X, sin, 'g', label = 'sin(X)')\n",
    "plt.plot(X, cos, 'b', label = 'cos(X)')\n",
    "plt.xlabel('X asix points', fontweight='bold', fontsize=15)\n",
    "plt.ylabel('Function axis points', fontweight='bold', fontsize=15)\n",
    "plt.title(\"Plot of Sin X & Cos X\", fontweight=\"bold\", fontsize=17)\n",
    "plt.legend(loc=9)\n",
    "plt.show()"
   ]
  },
  {
   "cell_type": "code",
   "execution_count": null,
   "id": "e04b9634-d33a-43b7-80d5-e1fbcc6a2467",
   "metadata": {},
   "outputs": [],
   "source": [
    "#Constrcut a Subplot of 2 Rows and 1 Coloumn of SinX and CosX graph\n",
    "import matplotlib.pyplot as plt\n",
    "import numpy as np\n",
    "plt.style.use('seaborn-v0_8')\n",
    "X = np.linspace(0,2*np.pi,100)\n",
    "y1 = np.sin(X)\n",
    "y2 = np.cos(X)\n",
    "plt.plot(X, y1, 'r', label = 'sin(X)')\n",
    "plt.plot(X, y2, 'b', label = 'cos(X)')\n",
    "plt.xlabel('X axis points', fontweight='bold', fontsize=15)\n",
    "plt.ylabel('Y axis points', fontweight='bold', fontsize=15)\n",
    "plt.title(\"Plot 2 functions of Sin X & Cos X\", fontweight=\"bold\", fontsize=17)\n",
    "plt.legend(loc=9)\n",
    "plt.show()"
   ]
  },
  {
   "cell_type": "code",
   "execution_count": null,
   "id": "7dc928fd-94ba-4777-877f-ad5fb4b40180",
   "metadata": {},
   "outputs": [],
   "source": [
    "#Syntax for Subplot for 2 x 1\n",
    "fig, ax = plt.subplots(2,1, figsize=(8,8))\n",
    "#PLotting\n",
    "ax[0].plot(X,y1,'r')\n",
    "ax[1].plot(X,y2,'g')\n",
    "#For Labelling\n",
    "ax[0].set_ylabel('Cos(x)')\n",
    "ax[1].set_ylabel('Sin(x)')\n",
    "ax[0].set_xlabel('x Points of Cosx')\n",
    "ax[1].set_xlabel('x Points of Sinx')\n",
    "\n",
    "fig.suptitle('Graphs')\n",
    "plt.show()"
   ]
  },
  {
   "cell_type": "code",
   "execution_count": null,
   "id": "05d847ad-486b-4693-8404-c86b2848a267",
   "metadata": {},
   "outputs": [],
   "source": [
    "#Syntax for Subplot for 2 x 1\n",
    "fig, ax = plt.subplots(2,2, figsize=(12,8))\n",
    "\n",
    "#Defining new Graphs\n",
    "y3 = np.sin(2*X)\n",
    "y4 = np.cos(2*X)\n",
    "\n",
    "#PLotting\n",
    "ax[0][0].plot(X,y1,'r')\n",
    "ax[1][0].plot(X,y2,'g')\n",
    "ax[0][1].plot(X,y3,'r')\n",
    "ax[1][1].plot(X,y4,'g')\n",
    "\n",
    "#For Labelling\n",
    "ax[0][0].set_ylabel('Cos(x)')\n",
    "ax[1][0].set_ylabel('Sin(x)')\n",
    "\n",
    "ax[0][0].set_xlabel('x Points of Cosx')\n",
    "ax[1][0].set_xlabel('x Points of Sinx')       #Set the lables for the random graphs\n",
    "\n",
    "fig.suptitle('Graphs')\n",
    "plt.show()"
   ]
  },
  {
   "cell_type": "markdown",
   "id": "48c09bcb-f9c5-4728-b4c4-dd70509c69b5",
   "metadata": {},
   "source": [
    "Scatter Plot\n"
   ]
  },
  {
   "cell_type": "code",
   "execution_count": null,
   "id": "ae0e6ea8-5223-4555-8df9-fb4e6d07ed6a",
   "metadata": {
    "tags": []
   },
   "outputs": [],
   "source": [
    "#scatter Plot\n",
    "np.random.seed(50)\n",
    "X = np.random.rand(50)\n",
    "Y = np.random.rand(50)\n",
    "# X1 = np.random.randint(50)\n",
    "# Y1 = np.random.randint(50)\n",
    "# X2 = np.random.randn(50)\n",
    "# Y2 = np.random.randn(50)\n",
    "# X3 = np.random.normal(0,1,15)\n",
    "\n",
    "# Create a color list by cycling through your 'colours' list\n",
    "# colour = [\n",
    "#     'red', 'blue', 'green', 'orange', 'purple', 'brown', 'pink', 'gray', \n",
    "#     'cyan', 'magenta', 'yellow', 'black', 'lime', 'teal', 'navy'\n",
    "# ]\n",
    "# colours = [colours[i % len(colours)] for i in range(len(X))]\n",
    "colours = np.random.rand(50,3)\n",
    "marker_size = (30*np.random.rand(50))**2\n",
    "\n",
    "#Plotting\n",
    "plt.scatter(X,Y,color = colours, marker=\"d\", s=marker_size, edgecolor='black')\n",
    "plt.show()"
   ]
  },
  {
   "cell_type": "code",
   "execution_count": null,
   "id": "310df1f4-9552-4916-b2bc-9e5895e58993",
   "metadata": {},
   "outputs": [],
   "source": [
    "#Bar Chart\n",
    "import matplotlib.pyplot as plt\n",
    "\n",
    "l1 = ['a', 'b', 'c', 'd', 'e']\n",
    "l2 = [10, 11, 12, 23, 43]  # now 5 values matching l1 length\n",
    "# colors = ['r', 'b', 'g', 'y', 'm']  # 5 colors for 5 bars\n",
    "colors = np.random.rand(len(l2),3)\n",
    "plt.bar(l1, l2, color=colors, edgecolor='black')\n",
    "\n",
    "plt.grid(axis='x', linestyle='--', alpha=0.1)\n",
    "plt.show()"
   ]
  },
  {
   "cell_type": "code",
   "execution_count": null,
   "id": "e169c16a-0270-47d4-a300-57ebccc80346",
   "metadata": {},
   "outputs": [],
   "source": [
    "#Pie Chart\n",
    "import matplotlib.pyplot as plt\n",
    "\n",
    "l1 = ['a', 'b', 'c', 'd', 'e']\n",
    "l2 = [10, 11, 12, 23, 43]  # now 5 values matching l1 length\n",
    "# colors = ['r', 'b', 'g', 'y', 'm']  # 5 colors for 5 bars\n",
    "colors = np.random.rand(len(l2),3)\n",
    "plt.pie(l2, labels =l1,colors = colors, autopct = '%1.1f%%', shadow=True)\n",
    "\n",
    "plt.grid(axis='x', linestyle='--', alpha=0.1)\n",
    "plt.show()"
   ]
  },
  {
   "cell_type": "code",
   "execution_count": null,
   "id": "2fb1b5ee-e5b3-422a-a0d8-926ac53dbdfb",
   "metadata": {},
   "outputs": [],
   "source": [
    "import matplotlib.pyplot as plt\n",
    "import numpy as np\n",
    "\n",
    "l2 = np.random.rand(3000)\n",
    "\n",
    "# Create a histogram of the numerical data in l2\n",
    "plt.hist(l2, bins=10, edgecolor='brown', color='c')\n",
    "\n",
    "plt.title('Histogram of Numerical Data')\n",
    "plt.xlabel('Values')\n",
    "plt.ylabel('Frequency')\n",
    "plt.grid(axis='x', linestyle='--', alpha=0.7)\n",
    "plt.show()"
   ]
  },
  {
   "cell_type": "code",
   "execution_count": 4,
   "id": "2bb7e837-bca4-4a00-b623-b38c22a6f7f9",
   "metadata": {},
   "outputs": [
    {
     "ename": "TypeError",
     "evalue": "'set' type is unordered",
     "output_type": "error",
     "traceback": [
      "\u001b[0;31m---------------------------------------------------------------------------\u001b[0m",
      "\u001b[0;31mTypeError\u001b[0m                                 Traceback (most recent call last)",
      "Cell \u001b[0;32mIn[4], line 19\u001b[0m\n\u001b[1;32m     10\u001b[0m a3 \u001b[38;5;241m=\u001b[39m np\u001b[38;5;241m.\u001b[39marange(\u001b[38;5;241m1\u001b[39m,\u001b[38;5;241m21\u001b[39m)\u001b[38;5;241m.\u001b[39mreshape(\u001b[38;5;241m2\u001b[39m,\u001b[38;5;241m2\u001b[39m,\u001b[38;5;241m5\u001b[39m)\n\u001b[1;32m     11\u001b[0m \u001b[38;5;66;03m# s1=pd.Series(lis)\u001b[39;00m\n\u001b[1;32m     12\u001b[0m \u001b[38;5;66;03m# s1\u001b[39;00m\n\u001b[1;32m     13\u001b[0m \u001b[38;5;66;03m# s2=pd.Series(tup)\u001b[39;00m\n\u001b[0;32m   (...)\u001b[0m\n\u001b[1;32m     17\u001b[0m \u001b[38;5;66;03m# s4=pd.Series(st)\u001b[39;00m\n\u001b[1;32m     18\u001b[0m \u001b[38;5;66;03m# s4                       #Unordered, Non hasable,\u001b[39;00m\n\u001b[0;32m---> 19\u001b[0m s5\u001b[38;5;241m=\u001b[39m\u001b[43mpd\u001b[49m\u001b[38;5;241;43m.\u001b[39;49m\u001b[43mSeries\u001b[49m\u001b[43m(\u001b[49m\u001b[43m{\u001b[49m\u001b[38;5;241;43m10\u001b[39;49m\u001b[43m,\u001b[49m\u001b[38;5;241;43m20\u001b[39;49m\u001b[43m}\u001b[49m\u001b[43m,\u001b[49m\u001b[43mindex\u001b[49m\u001b[38;5;241;43m=\u001b[39;49m\u001b[43m[\u001b[49m\u001b[38;5;124;43m'\u001b[39;49m\u001b[38;5;124;43ma\u001b[39;49m\u001b[38;5;124;43m'\u001b[39;49m\u001b[43m,\u001b[49m\u001b[38;5;124;43m'\u001b[39;49m\u001b[38;5;124;43mb\u001b[39;49m\u001b[38;5;124;43m'\u001b[39;49m\u001b[43m]\u001b[49m\u001b[43m)\u001b[49m\n\u001b[1;32m     20\u001b[0m s5\n",
      "File \u001b[0;32m/opt/anaconda3/lib/python3.9/site-packages/pandas/core/series.py:439\u001b[0m, in \u001b[0;36mSeries.__init__\u001b[0;34m(self, data, index, dtype, name, copy, fastpath)\u001b[0m\n\u001b[1;32m    437\u001b[0m         data \u001b[38;5;241m=\u001b[39m data\u001b[38;5;241m.\u001b[39mcopy()\n\u001b[1;32m    438\u001b[0m \u001b[38;5;28;01melse\u001b[39;00m:\n\u001b[0;32m--> 439\u001b[0m     data \u001b[38;5;241m=\u001b[39m \u001b[43msanitize_array\u001b[49m\u001b[43m(\u001b[49m\u001b[43mdata\u001b[49m\u001b[43m,\u001b[49m\u001b[43m \u001b[49m\u001b[43mindex\u001b[49m\u001b[43m,\u001b[49m\u001b[43m \u001b[49m\u001b[43mdtype\u001b[49m\u001b[43m,\u001b[49m\u001b[43m \u001b[49m\u001b[43mcopy\u001b[49m\u001b[43m)\u001b[49m\n\u001b[1;32m    441\u001b[0m     manager \u001b[38;5;241m=\u001b[39m get_option(\u001b[38;5;124m\"\u001b[39m\u001b[38;5;124mmode.data_manager\u001b[39m\u001b[38;5;124m\"\u001b[39m)\n\u001b[1;32m    442\u001b[0m     \u001b[38;5;28;01mif\u001b[39;00m manager \u001b[38;5;241m==\u001b[39m \u001b[38;5;124m\"\u001b[39m\u001b[38;5;124mblock\u001b[39m\u001b[38;5;124m\"\u001b[39m:\n",
      "File \u001b[0;32m/opt/anaconda3/lib/python3.9/site-packages/pandas/core/construction.py:559\u001b[0m, in \u001b[0;36msanitize_array\u001b[0;34m(data, index, dtype, copy, raise_cast_failure, allow_2d)\u001b[0m\n\u001b[1;32m    556\u001b[0m \u001b[38;5;28;01melse\u001b[39;00m:\n\u001b[1;32m    557\u001b[0m     \u001b[38;5;28;01mif\u001b[39;00m \u001b[38;5;28misinstance\u001b[39m(data, (\u001b[38;5;28mset\u001b[39m, \u001b[38;5;28mfrozenset\u001b[39m)):\n\u001b[1;32m    558\u001b[0m         \u001b[38;5;66;03m# Raise only for unordered sets, e.g., not for dict_keys\u001b[39;00m\n\u001b[0;32m--> 559\u001b[0m         \u001b[38;5;28;01mraise\u001b[39;00m \u001b[38;5;167;01mTypeError\u001b[39;00m(\u001b[38;5;124mf\u001b[39m\u001b[38;5;124m\"\u001b[39m\u001b[38;5;124m'\u001b[39m\u001b[38;5;132;01m{\u001b[39;00m\u001b[38;5;28mtype\u001b[39m(data)\u001b[38;5;241m.\u001b[39m\u001b[38;5;18m__name__\u001b[39m\u001b[38;5;132;01m}\u001b[39;00m\u001b[38;5;124m'\u001b[39m\u001b[38;5;124m type is unordered\u001b[39m\u001b[38;5;124m\"\u001b[39m)\n\u001b[1;32m    561\u001b[0m     \u001b[38;5;66;03m# materialize e.g. generators, convert e.g. tuples, abc.ValueView\u001b[39;00m\n\u001b[1;32m    562\u001b[0m     \u001b[38;5;28;01mif\u001b[39;00m \u001b[38;5;28mhasattr\u001b[39m(data, \u001b[38;5;124m\"\u001b[39m\u001b[38;5;124m__array__\u001b[39m\u001b[38;5;124m\"\u001b[39m):\n\u001b[1;32m    563\u001b[0m         \u001b[38;5;66;03m# e.g. dask array GH#38645\u001b[39;00m\n",
      "\u001b[0;31mTypeError\u001b[0m: 'set' type is unordered"
     ]
    }
   ],
   "source": [
    "#PANDAS\n",
    "import numpy as np\n",
    "import pandas as pd\n",
    "lis=[10,20,5,15]\n",
    "tup=(104,200,5,105)\n",
    "dic=({'x':1,'y':2,'z':3})\n",
    "st = {}\n",
    "a1 = np.arange(1,13)\n",
    "a2 = np.arange(1,13).reshape(3,4)\n",
    "a3 = np.arange(1,21).reshape(2,2,5)\n",
    "sc = pd.Series(\n",
    "# s1=pd.Series(lis)\n",
    "# s1\n",
    "# s2=pd.Series(tup)\n",
    "# s2\n",
    "# s3=pd.Series(dic)\n",
    "# s3\n",
    "# s4=pd.Series(st)\n",
    "# s4                       #Unordered, Non hasable,\n",
    "# s5=pd.Series({10,20},index=['a','b'])\n",
    "# s5\n",
    "# s6=pd.Series(a2)\n",
    "# s6\n",
    "# s7=pd.Series(a3)\n",
    "# s7"
   ]
  },
  {
   "cell_type": "code",
   "execution_count": null,
   "id": "ae07574e-2009-40ba-96a1-a19f1e6ad121",
   "metadata": {},
   "outputs": [],
   "source": []
  },
  {
   "cell_type": "code",
   "execution_count": null,
   "id": "e88b6eae-1f34-470d-ad67-75847fc94e1f",
   "metadata": {},
   "outputs": [],
   "source": []
  },
  {
   "cell_type": "code",
   "execution_count": null,
   "id": "1b3b8d33-764c-4a3c-b215-fce26cb3f38b",
   "metadata": {},
   "outputs": [],
   "source": []
  }
 ],
 "metadata": {
  "kernelspec": {
   "display_name": "Python 3 (ipykernel)",
   "language": "python",
   "name": "python3"
  },
  "language_info": {
   "codemirror_mode": {
    "name": "ipython",
    "version": 3
   },
   "file_extension": ".py",
   "mimetype": "text/x-python",
   "name": "python",
   "nbconvert_exporter": "python",
   "pygments_lexer": "ipython3",
   "version": "3.9.17"
  }
 },
 "nbformat": 4,
 "nbformat_minor": 5
}
