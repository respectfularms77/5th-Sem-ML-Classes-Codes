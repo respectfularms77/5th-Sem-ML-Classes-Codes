{
 "cells": [
  {
   "cell_type": "code",
   "execution_count": 18,
   "id": "74415185",
   "metadata": {},
   "outputs": [
    {
     "name": "stdout",
     "output_type": "stream",
     "text": [
      "V-Measure Score: 0.19950685588274256\n",
      "Silhouette Score: 0.29932650503593483\n"
     ]
    }
   ],
   "source": [
    "import pandas as pd\n",
    "import numpy as np\n",
    "from sklearn.cluster import KMeans\n",
    "from sklearn.metrics.cluster import v_measure_score\n",
    "from sklearn.metrics import silhouette_score\n",
    "\n",
    "data = pd.read_csv(\"Dataset_spine.csv\")\n",
    "# print(data)\n",
    "data1 = data.iloc[:,:11]\n",
    "# print(data1) # Kept commented as per original\n",
    "data2 = data.iloc[:,12]\n",
    "\n",
    "# FIX: Added n_init=10 to explicitly set the initialization runs\n",
    "kmeans = KMeans(n_clusters=3, random_state=123, n_init=\"auto\") \n",
    "kmeans.fit(data1)\n",
    "cluster_labels = kmeans.predict(data1)\n",
    "\n",
    "v = v_measure_score(data2, cluster_labels)\n",
    "s = silhouette_score(data1, cluster_labels, metric='euclidean', sample_size = 30)\n",
    "\n",
    "print(f\"V-Measure Score: {v}\")\n",
    "print(f\"Silhouette Score: {s}\")"
   ]
  },
  {
   "cell_type": "code",
   "execution_count": null,
   "id": "1cd40814",
   "metadata": {},
   "outputs": [],
   "source": []
  },
  {
   "cell_type": "code",
   "execution_count": null,
   "id": "d37c3d10",
   "metadata": {},
   "outputs": [],
   "source": []
  }
 ],
 "metadata": {
  "kernelspec": {
   "display_name": "Python 3 (ipykernel)",
   "language": "python",
   "name": "python3"
  },
  "language_info": {
   "codemirror_mode": {
    "name": "ipython",
    "version": 3
   },
   "file_extension": ".py",
   "mimetype": "text/x-python",
   "name": "python",
   "nbconvert_exporter": "python",
   "pygments_lexer": "ipython3",
   "version": "3.9.17"
  }
 },
 "nbformat": 4,
 "nbformat_minor": 5
}
