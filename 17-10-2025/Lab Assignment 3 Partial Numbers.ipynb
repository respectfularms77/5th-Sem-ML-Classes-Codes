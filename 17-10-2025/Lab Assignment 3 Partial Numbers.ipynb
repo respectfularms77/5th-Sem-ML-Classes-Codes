{
 "cells": [
  {
   "cell_type": "code",
   "execution_count": 29,
   "id": "7b8bcf85",
   "metadata": {},
   "outputs": [
    {
     "name": "stdout",
     "output_type": "stream",
     "text": [
      "Accuracy Score: 0.6363636363636364\n",
      "Confusion Matrix:\n",
      " [[6 0 0 0 0 0]\n",
      " [0 1 0 0 0 1]\n",
      " [1 0 3 0 0 0]\n",
      " [0 0 0 0 2 2]\n",
      " [0 0 0 0 2 0]\n",
      " [0 0 0 1 1 2]]\n"
     ]
    }
   ],
   "source": [
    "#4\n",
    "import pandas as pd\n",
    "from sklearn.model_selection import train_test_split\n",
    "from sklearn.ensemble import RandomForestClassifier\n",
    "from sklearn.metrics import accuracy_score, confusion_matrix\n",
    "data = pd.read_csv('btissue.csv')\n",
    "X = data.iloc[:,:-1]\n",
    "Y = data.iloc[:,-1]\n",
    "X_train, X_test, Y_train, Y_test = train_test_split(X,Y,test_size=0.2,random_state=90)\n",
    "rf = RandomForestClassifier(random_state=123)\n",
    "rf.fit(X_train,Y_train)\n",
    "Y_predicted = rf.predict(X_test)\n",
    "print(\"Accuracy Score:\",accuracy_score(Y_test, Y_predicted))\n",
    "print(\"Confusion Matrix:\\n\",confusion_matrix(Y_test, Y_predicted))"
   ]
  },
  {
   "cell_type": "code",
   "execution_count": 33,
   "id": "9ed90f84",
   "metadata": {},
   "outputs": [
    {
     "name": "stdout",
     "output_type": "stream",
     "text": [
      "Mean Squared Error: 12.066773327290974\n",
      "0.8096337398502698\n"
     ]
    }
   ],
   "source": [
    "#5\n",
    "import pandas as pd\n",
    "from sklearn.model_selection import train_test_split\n",
    "from sklearn.linear_model import LinearRegression\n",
    "from sklearn.metrics import mean_squared_error, r2_score\n",
    "data = pd.read_csv('auto_mpg.csv')\n",
    "data\n",
    "data=data.dropna(axis=0, how='any')\n",
    "X = data.iloc[:,1:8]\n",
    "Y = data.iloc[:,0]\n",
    "X_train, X_test, Y_train, Y_test = train_test_split(X, Y, test_size = 0.25, random_state = 90)\n",
    "model = LinearRegression().fit(X_train, Y_train)\n",
    "Y_predicted = model.predict(X_test)\n",
    "print(\"Mean Squared Error:\",mean_squared_error(Y_test,Y_predicted))\n",
    "print(r2_score(Y_test, Y_predicted))"
   ]
  },
  {
   "cell_type": "code",
   "execution_count": null,
   "id": "53707557",
   "metadata": {},
   "outputs": [],
   "source": []
  }
 ],
 "metadata": {
  "kernelspec": {
   "display_name": "Python 3 (ipykernel)",
   "language": "python",
   "name": "python3"
  },
  "language_info": {
   "codemirror_mode": {
    "name": "ipython",
    "version": 3
   },
   "file_extension": ".py",
   "mimetype": "text/x-python",
   "name": "python",
   "nbconvert_exporter": "python",
   "pygments_lexer": "ipython3",
   "version": "3.9.17"
  }
 },
 "nbformat": 4,
 "nbformat_minor": 5
}
