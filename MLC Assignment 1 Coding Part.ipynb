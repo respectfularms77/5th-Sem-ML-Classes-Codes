{
  "nbformat": 4,
  "nbformat_minor": 0,
  "metadata": {
    "colab": {
      "provenance": []
    },
    "kernelspec": {
      "name": "python3",
      "display_name": "Python 3"
    },
    "language_info": {
      "name": "python"
    }
  },
  "cells": [
    {
      "cell_type": "markdown",
      "source": [
        "## **Part B - Lab Questions**"
      ],
      "metadata": {
        "id": "oKcqHTPPlf4o"
      }
    },
    {
      "cell_type": "code",
      "source": [
        "\"\"\"Q1.(a) Create a 1D NumPy array with values 1 to 20.\n",
        "(b) Extract all prime numbers from it.\n",
        "(c) Compute the mean and variance of the extracted primes.\"\"\"\n",
        "\n",
        "# (a) Create a 1D NumPy array with values 1 to 20\n",
        "import numpy as np\n",
        "ar = np.arange(1,21)\n",
        "print(\"Array is:\",ar)\n",
        "\n",
        "# (b) Extract all prime numbers\n",
        "def is_prime(n):\n",
        "    if n < 2:\n",
        "        return False\n",
        "    for i in range(2, int(np.sqrt(n)) + 1):\n",
        "        if n % i == 0:\n",
        "            return False\n",
        "    return True\n",
        "\n",
        "primes = np.array([x for x in ar if is_prime(x)])\n",
        "print(\"Prime numbers:\", primes)\n",
        "\n",
        "# (c) Compute mean and variance of primes\n",
        "mean_primes = np.mean(primes)\n",
        "var_primes = np.var(primes)\n",
        "print(\"Mean of primes:\", mean_primes)\n",
        "print(\"Variance of primes:\", var_primes)"
      ],
      "metadata": {
        "colab": {
          "base_uri": "https://localhost:8080/"
        },
        "id": "9h7T7winlsxF",
        "outputId": "013d2a25-f503-4d0b-936b-74d9373c61ca"
      },
      "execution_count": 119,
      "outputs": [
        {
          "output_type": "stream",
          "name": "stdout",
          "text": [
            "Array is: [ 1  2  3  4  5  6  7  8  9 10 11 12 13 14 15 16 17 18 19 20]\n",
            "Prime numbers: [ 2  3  5  7 11 13 17 19]\n",
            "Mean of primes: 9.625\n",
            "Variance of primes: 35.734375\n"
          ]
        }
      ]
    },
    {
      "cell_type": "code",
      "source": [
        "\"\"\"Q2.(a) Create a 4×4 NumPy array with numbers 1 to 16.\n",
        "(b) Extract the 2×2 bottom-left sub-matrix.\n",
        "(c) Compute the determinant of the sub-matrix.\"\"\"\n",
        "\n",
        "import numpy as np\n",
        "# (a) Create a 4×4 NumPy array with numbers 1 to 16\n",
        "arr = np.arange(1, 17).reshape(4, 4)\n",
        "print(\"4x4 Array:\\n\", arr)\n",
        "\n",
        "# (b) Extract the 2×2 bottom-left sub-matrix\n",
        "sub_matrix = arr[2:, :2]\n",
        "print(\"2x2 Bottom-left Sub-matrix:\\n\", sub_matrix)\n",
        "\n",
        "# (c) Compute the determinant of the sub-matrix\n",
        "det = np.linalg.det(sub_matrix)\n",
        "print(\"Determinant of sub-matrix:\", det)"
      ],
      "metadata": {
        "colab": {
          "base_uri": "https://localhost:8080/"
        },
        "id": "ArX3eZqBnbXT",
        "outputId": "5f15e159-a236-43b2-8725-f35f3a714e46"
      },
      "execution_count": 120,
      "outputs": [
        {
          "output_type": "stream",
          "name": "stdout",
          "text": [
            "4x4 Array:\n",
            " [[ 1  2  3  4]\n",
            " [ 5  6  7  8]\n",
            " [ 9 10 11 12]\n",
            " [13 14 15 16]]\n",
            "2x2 Bottom-left Sub-matrix:\n",
            " [[ 9 10]\n",
            " [13 14]]\n",
            "Determinant of sub-matrix: -4.000000000000009\n"
          ]
        }
      ]
    },
    {
      "cell_type": "code",
      "source": [
        "\"\"\"Q3.(a) Create a DataFrame with 5 students and marks in 3 subjects.\n",
        "(b) Add a column for total and average marks.\n",
        "(c) Identify the topper and print their name with average.\"\"\"\n",
        "\n",
        "import pandas as pd\n",
        "#(a) Create a DataFrame with 5 students and marks in 3 subjects\n",
        "data = {\n",
        "    'Name': ['Arpit', 'Mohan', 'Gagan', 'Chetan', 'Isha'],\n",
        "    'Maths': [78, 85, 92, 88, 76],\n",
        "    'Science': [82, 79, 95, 91, 80],\n",
        "    'English': [74, 88, 90, 85, 78]\n",
        "}\n",
        "df = pd.DataFrame(data)\n",
        "print(\"Student Marks DataFrame:\\n\", df)\n",
        "\n",
        "#(b) Add total and average columns\n",
        "df['Total'] = df[['Maths', 'Science', 'English']].sum(axis=1)\n",
        "df['Average'] = df['Total'] / 3\n",
        "print(\"\\nDataFrame with Total & Average:\\n\", df)\n",
        "\n",
        "#(c) Identify the topper and print their name with average\n",
        "topper = df.loc[df['Average'].idxmax()]\n",
        "print(f\"\\nTopper: {topper['Name']} | Average Marks: {topper['Average']:.2f}\")"
      ],
      "metadata": {
        "colab": {
          "base_uri": "https://localhost:8080/"
        },
        "id": "hrgYPkHEoPhE",
        "outputId": "6fcf9c66-b58f-41ba-b29f-6dbeecebb53a"
      },
      "execution_count": 121,
      "outputs": [
        {
          "output_type": "stream",
          "name": "stdout",
          "text": [
            "Student Marks DataFrame:\n",
            "      Name  Maths  Science  English\n",
            "0   Arpit     78       82       74\n",
            "1   Mohan     85       79       88\n",
            "2   Gagan     92       95       90\n",
            "3  Chetan     88       91       85\n",
            "4    Isha     76       80       78\n",
            "\n",
            "DataFrame with Total & Average:\n",
            "      Name  Maths  Science  English  Total    Average\n",
            "0   Arpit     78       82       74    234  78.000000\n",
            "1   Mohan     85       79       88    252  84.000000\n",
            "2   Gagan     92       95       90    277  92.333333\n",
            "3  Chetan     88       91       85    264  88.000000\n",
            "4    Isha     76       80       78    234  78.000000\n",
            "\n",
            "Topper: Gagan | Average Marks: 92.33\n"
          ]
        }
      ]
    },
    {
      "cell_type": "code",
      "source": [
        "\"\"\"Q4.(a) Simulate 1000 coin tosses using NumPy (1=Head, 0=Tail).\n",
        "(b) Count frequency of heads and tails.\n",
        "(c) Estimate probability of heads. Is it close to 0.5? Why/Why not?\"\"\"\n",
        "\n",
        "import numpy as np\n",
        "#(a) Simulate 1000 coin tosses (1=Head, 0=Tail)\n",
        "tosses = np.random.randint(0, 2, 1000)\n",
        "print(\"Coin Toss Results (first 25 shown):\", tosses[:25])\n",
        "\n",
        "#(b) Count frequency of heads and tails\n",
        "heads = np.count_nonzero(tosses == 1)\n",
        "tails = np.count_nonzero(tosses == 0)\n",
        "print(f\"Heads: {heads}, Tails: {tails}\")\n",
        "\n",
        "#(c) Estimate probability of heads\n",
        "prob_heads = heads / len(tosses)\n",
        "print(f\"Probability of Heads: {prob_heads:.3f}\")\n",
        "\n",
        "#Commenting on result\n",
        "if abs(prob_heads - 0.5) < 0.05:\n",
        "    print(\"Yes, it's close to 0.5 — randomness averages out over many tosses.\")\n",
        "else:\n",
        "    print(\"Not very close to 0.5 — randomness can still cause small deviations.\")\n"
      ],
      "metadata": {
        "colab": {
          "base_uri": "https://localhost:8080/"
        },
        "id": "oOpR0niOpA_-",
        "outputId": "8d31a2d8-6430-4b0c-ccff-d745b8b1bb8c"
      },
      "execution_count": 122,
      "outputs": [
        {
          "output_type": "stream",
          "name": "stdout",
          "text": [
            "Coin Toss Results (first 25 shown): [1 0 0 0 0 1 1 0 1 0 1 1 0 1 0 0 0 0 0 1 1 0 0 0 0]\n",
            "Heads: 505, Tails: 495\n",
            "Probability of Heads: 0.505\n",
            "Yes, it's close to 0.5 — randomness averages out over many tosses.\n"
          ]
        }
      ]
    },
    {
      "cell_type": "code",
      "source": [
        "\"\"\"Q5.(a) Create a DataFrame of employees with columns: ID, Name, Salary.\n",
        "(b) Add a Bonus column = 10% of Salary.\n",
        "(c) Display employees with salary above average.\"\"\"\n",
        "\n",
        "#(a) Create a DataFrame of employees with columns: ID, Name, Salary.\n",
        "import pandas as pd\n",
        "data = {\n",
        "    'ID': [101, 102, 103, 104, 105],\n",
        "    'Name': ['Arpit', 'Gagan', 'Mohan', 'Chetan', 'Isha'],\n",
        "    'Salary': [65000, 52000, 48000, 60000, 55000]\n",
        "}\n",
        "df = pd.DataFrame(data)\n",
        "print(\"Employees DataFrame:\\n\",df)\n",
        "\n",
        "# (b) Add Bonus column = 10% of Salary\n",
        "df['Bonus'] = df['Salary'] * 0.10\n",
        "print(\"\\nDataFrame with Bonus:\\n\", df)\n",
        "\n",
        "# (c) Display employees with salary above average\n",
        "avg_salary = df['Salary'].mean()\n",
        "above_avg = df[df['Salary'] > avg_salary]\n",
        "print(f\"\\nAverage Salary: {avg_salary:.2f}\")\n",
        "print(\"\\nEmployees with Salary above Average:\\n\", above_avg)"
      ],
      "metadata": {
        "colab": {
          "base_uri": "https://localhost:8080/"
        },
        "id": "Tc2hqbwsp78L",
        "outputId": "e07540ed-16c3-4f48-8b68-66d92cf4bc60"
      },
      "execution_count": 123,
      "outputs": [
        {
          "output_type": "stream",
          "name": "stdout",
          "text": [
            "Employees DataFrame:\n",
            "     ID    Name  Salary\n",
            "0  101   Arpit   65000\n",
            "1  102   Gagan   52000\n",
            "2  103   Mohan   48000\n",
            "3  104  Chetan   60000\n",
            "4  105    Isha   55000\n",
            "\n",
            "DataFrame with Bonus:\n",
            "     ID    Name  Salary   Bonus\n",
            "0  101   Arpit   65000  6500.0\n",
            "1  102   Gagan   52000  5200.0\n",
            "2  103   Mohan   48000  4800.0\n",
            "3  104  Chetan   60000  6000.0\n",
            "4  105    Isha   55000  5500.0\n",
            "\n",
            "Average Salary: 56000.00\n",
            "\n",
            "Employees with Salary above Average:\n",
            "     ID    Name  Salary   Bonus\n",
            "0  101   Arpit   65000  6500.0\n",
            "3  104  Chetan   60000  6000.0\n"
          ]
        }
      ]
    },
    {
      "cell_type": "code",
      "source": [
        "\"\"\"Q6.(a) Create a 3×3 NumPy array with values 1 to 9.\n",
        "(b) Find its transpose and inverse.\n",
        "(c) Verify that A × A⁻¹ ≈ I.\"\"\"\n",
        "\n",
        "import numpy as np\n",
        "\n",
        "# (a) Create a 3×3 NumPy array with values 1 to 9\n",
        "A = np.arange(1, 10).reshape(3, 3)\n",
        "print(\"Matrix A:\\n\", A)\n",
        "\n",
        "# (b) Find its transpose and inverse\n",
        "A_T = A.T\n",
        "try:\n",
        "    A_inv = np.linalg.inv(A)\n",
        "    print(\"\\nTranspose of A:\\n\", A_T)\n",
        "    print(\"\\nInverse of A:\\n\", A_inv)\n",
        "except np.linalg.LinAlgError:\n",
        "    print(\"\\nMatrix A is singular and cannot be inverted.\")\n",
        "\n",
        "# (c) Verify that A × A⁻¹ ≈ I\n",
        "if 'A_inv' in locals():\n",
        "    I_approx = np.dot(A, A_inv)\n",
        "    print(\"\\nA × A⁻¹ ≈ I:\\n\", I_approx)"
      ],
      "metadata": {
        "colab": {
          "base_uri": "https://localhost:8080/"
        },
        "id": "8qgSfizNrNGk",
        "outputId": "42395e57-8b12-4303-f585-312b2e99a943"
      },
      "execution_count": 124,
      "outputs": [
        {
          "output_type": "stream",
          "name": "stdout",
          "text": [
            "Matrix A:\n",
            " [[1 2 3]\n",
            " [4 5 6]\n",
            " [7 8 9]]\n",
            "\n",
            "Matrix A is singular and cannot be inverted.\n"
          ]
        }
      ]
    },
    {
      "cell_type": "code",
      "source": [
        "\"\"\"Q7.(a) Generate random daily temperatures (30 values, range 20–40°C).\n",
        "(b) Find the hottest and coldest day.\n",
        "(c) Compute mean, median, and standard deviation of temperatures.\"\"\"\n",
        "\n",
        "import numpy as np\n",
        "\n",
        "# (a) Generate random daily temperatures (30 values, range 20–40°C)\n",
        "temps = np.random.uniform(20, 40, 30)\n",
        "print(\"Daily Temperatures (°C):\\n\", np.round(temps, 2))\n",
        "\n",
        "# (b) Find the hottest and coldest day\n",
        "hottest = np.max(temps)\n",
        "coldest = np.min(temps)\n",
        "print(f\"\\nHottest Temperature: {hottest:.2f}°C\")\n",
        "print(f\"Coldest Temperature: {coldest:.2f}°C\")\n",
        "\n",
        "# (c) Compute mean, median, and standard deviation\n",
        "mean_temp = np.mean(temps)\n",
        "median_temp = np.median(temps)\n",
        "std_temp = np.std(temps)\n",
        "print(f\"\\nMean: {mean_temp:.2f}°C\")\n",
        "print(f\"Median: {median_temp:.2f}°C\")\n",
        "print(f\"Standard Deviation: {std_temp:.2f}\")"
      ],
      "metadata": {
        "colab": {
          "base_uri": "https://localhost:8080/"
        },
        "id": "3hb-e1Gzsk6f",
        "outputId": "bc69a536-8d77-4957-96f1-04db15cdb3f9"
      },
      "execution_count": 125,
      "outputs": [
        {
          "output_type": "stream",
          "name": "stdout",
          "text": [
            "Daily Temperatures (°C):\n",
            " [38.   28.09 37.91 21.3  33.71 24.62 30.78 35.46 34.93 34.43 29.66 23.88\n",
            " 24.11 30.71 28.76 39.5  26.02 21.58 34.54 39.51 35.64 24.94 20.73 28.14\n",
            " 37.56 28.64 25.68 38.71 35.45 32.22]\n",
            "\n",
            "Hottest Temperature: 39.51°C\n",
            "Coldest Temperature: 20.73°C\n",
            "\n",
            "Mean: 30.84°C\n",
            "Median: 30.74°C\n",
            "Standard Deviation: 5.77\n"
          ]
        }
      ]
    },
    {
      "cell_type": "code",
      "source": [
        "\"\"\"Q8.(a) Create a Pandas Series of marks for 8 students.\n",
        "(b) Replace all marks below 40 with “Fail”.\n",
        "(c) Count how many students passed.\"\"\"\n",
        "\n",
        "import pandas as pd\n",
        "# (a) Create a Pandas Series of marks for 8 students\n",
        "marks = pd.Series([55, 38, 72, 91, 47, 30, 65, 84])\n",
        "print(\"Marks Series:\\n\", marks)\n",
        "\n",
        "# (b) Replace all marks below 40 with “Fail”\n",
        "marks_updated = marks.apply(lambda x: \"Fail\" if x < 40 else x)\n",
        "print(\"\\nUpdated Marks (with 'Fail'):\\n\", marks_updated)\n",
        "\n",
        "# (c) Count how many students passed\n",
        "passed_count = sum(marks_updated != \"Fail\")\n",
        "print(f\"\\nNumber of Students Passed: {passed_count}\")"
      ],
      "metadata": {
        "colab": {
          "base_uri": "https://localhost:8080/"
        },
        "id": "jDqxPzLGuB1e",
        "outputId": "0c133b3c-3193-4d7b-b9a9-a1bb5aebd830"
      },
      "execution_count": 126,
      "outputs": [
        {
          "output_type": "stream",
          "name": "stdout",
          "text": [
            "Marks Series:\n",
            " 0    55\n",
            "1    38\n",
            "2    72\n",
            "3    91\n",
            "4    47\n",
            "5    30\n",
            "6    65\n",
            "7    84\n",
            "dtype: int64\n",
            "\n",
            "Updated Marks (with 'Fail'):\n",
            " 0      55\n",
            "1    Fail\n",
            "2      72\n",
            "3      91\n",
            "4      47\n",
            "5    Fail\n",
            "6      65\n",
            "7      84\n",
            "dtype: object\n",
            "\n",
            "Number of Students Passed: 6\n"
          ]
        }
      ]
    },
    {
      "cell_type": "code",
      "source": [
        "\"\"\"Q9.(a) Generate 500 random integers between 1 and 6 (simulate dice rolls).\n",
        "(b) Count how many times each face appears.\n",
        "(c) Compute relative frequencies and compare with theoretical 1/6.\"\"\"\n",
        "\n",
        "import numpy as np\n",
        "\n",
        "# (a) Generate 500 random integers between 1 and 6 (simulate dice rolls)\n",
        "rolls = np.random.randint(1, 7, 500)\n",
        "print(\"First 20 Dice Rolls:\", rolls[:20])\n",
        "\n",
        "# (b) Count how many times each face appears\n",
        "counts = {face: np.count_nonzero(rolls == face) for face in range(1, 7)}\n",
        "print(\"\\nFace Counts:\", counts)\n",
        "\n",
        "# (c) Compute relative frequencies and compare with theoretical 1/6\n",
        "rel_freq = {face: count / 500 for face, count in counts.items()}\n",
        "print(\"\\nRelative Frequencies:\", rel_freq)\n",
        "print(\"\\nTheoretical Probability (1/6) ≈ 0.1667\")\n",
        "for face, freq in rel_freq.items():\n",
        "    print(f\"Face {face}: {freq:.3f} (diff = {abs(freq - 1/6):.3f})\")"
      ],
      "metadata": {
        "colab": {
          "base_uri": "https://localhost:8080/"
        },
        "id": "GvwUDX_oum-N",
        "outputId": "7ea8fd4c-3f51-4de6-e4b4-0e893817e927"
      },
      "execution_count": 127,
      "outputs": [
        {
          "output_type": "stream",
          "name": "stdout",
          "text": [
            "First 20 Dice Rolls: [3 6 5 4 5 2 1 1 2 1 4 6 3 1 2 3 2 4 2 6]\n",
            "\n",
            "Face Counts: {1: 93, 2: 74, 3: 81, 4: 81, 5: 86, 6: 85}\n",
            "\n",
            "Relative Frequencies: {1: 0.186, 2: 0.148, 3: 0.162, 4: 0.162, 5: 0.172, 6: 0.17}\n",
            "\n",
            "Theoretical Probability (1/6) ≈ 0.1667\n",
            "Face 1: 0.186 (diff = 0.019)\n",
            "Face 2: 0.148 (diff = 0.019)\n",
            "Face 3: 0.162 (diff = 0.005)\n",
            "Face 4: 0.162 (diff = 0.005)\n",
            "Face 5: 0.172 (diff = 0.005)\n",
            "Face 6: 0.170 (diff = 0.003)\n"
          ]
        }
      ]
    },
    {
      "cell_type": "code",
      "source": [
        "\"\"\"Q10.(a) Create a DataFrame with 6 products (Name, Quantity, Price).\n",
        "(b) Add a column “Total = Quantity × Price”.\n",
        "(c) Find which product generated maximum sales revenue.\"\"\"\n",
        "\n",
        "import pandas as pd\n",
        "\n",
        "# (a) Create a DataFrame with 6 products\n",
        "data = {\n",
        "    'Name': ['Pen', 'Notebook', 'Eraser', 'Marker', 'Stapler', 'Folder'],\n",
        "    'Quantity': [50, 30, 100, 20, 15, 40],\n",
        "    'Price': [5, 20, 2, 15, 50, 10]\n",
        "}\n",
        "df = pd.DataFrame(data)\n",
        "print(\"Products DataFrame:\\n\", df)\n",
        "\n",
        "# (b) Add a column \"Total = Quantity × Price\"\n",
        "df['Total'] = df['Quantity'] * df['Price']\n",
        "print(\"\\nDataFrame with Total Sales:\\n\", df)\n",
        "\n",
        "# (c) Find which product generated maximum sales revenue\n",
        "max_sales_product = df.loc[df['Total'].idxmax()]\n",
        "print(f\"\\nProduct with Maximum Sales: {max_sales_product['Name']} | Revenue: {max_sales_product['Total']}\")"
      ],
      "metadata": {
        "colab": {
          "base_uri": "https://localhost:8080/"
        },
        "id": "q1PwfT5bvAA8",
        "outputId": "b3cac55e-8b09-49cf-9161-6e91a305fed3"
      },
      "execution_count": 128,
      "outputs": [
        {
          "output_type": "stream",
          "name": "stdout",
          "text": [
            "Products DataFrame:\n",
            "        Name  Quantity  Price\n",
            "0       Pen        50      5\n",
            "1  Notebook        30     20\n",
            "2    Eraser       100      2\n",
            "3    Marker        20     15\n",
            "4   Stapler        15     50\n",
            "5    Folder        40     10\n",
            "\n",
            "DataFrame with Total Sales:\n",
            "        Name  Quantity  Price  Total\n",
            "0       Pen        50      5    250\n",
            "1  Notebook        30     20    600\n",
            "2    Eraser       100      2    200\n",
            "3    Marker        20     15    300\n",
            "4   Stapler        15     50    750\n",
            "5    Folder        40     10    400\n",
            "\n",
            "Product with Maximum Sales: Stapler | Revenue: 750\n"
          ]
        }
      ]
    },
    {
      "cell_type": "code",
      "source": [
        "\"\"\"Q11.(a) Create a DataFrame with some missing values (NaN).\n",
        "(b) Fill missing values with column mean.\n",
        "(c) Drop rows where more than 1 value is missing.\"\"\"\n",
        "\n",
        "import pandas as pd\n",
        "import numpy as np\n",
        "\n",
        "# (a) Create a DataFrame with some missing values\n",
        "data = {\n",
        "    'A': [10, 20, np.nan, 40, np.nan],\n",
        "    'B': [5, np.nan, 15, np.nan, 25],\n",
        "    'C': [11, np.nan, 12, 16, 20]\n",
        "}\n",
        "df = pd.DataFrame(data)\n",
        "print(\"Original DataFrame:\\n\", df)\n",
        "\n",
        "# (b) Fill missing values with column mean\n",
        "df_filled = df.fillna(df.mean())\n",
        "print(\"\\nDataFrame after filling NaNs with column mean:\\n\", df_filled)\n",
        "\n",
        "# (c) Drop rows where more than 1 value is missing\n",
        "df_dropped = df.dropna(thresh=df.shape[1]-1)  # keep rows with at least 2 non-NaNs\n",
        "print(\"\\nDataFrame after dropping rows with >1 missing value:\\n\", df_dropped)"
      ],
      "metadata": {
        "colab": {
          "base_uri": "https://localhost:8080/"
        },
        "id": "JZp1DoUGvil0",
        "outputId": "54d57d4b-b0f6-469c-8d48-58a83fa559bc"
      },
      "execution_count": 129,
      "outputs": [
        {
          "output_type": "stream",
          "name": "stdout",
          "text": [
            "Original DataFrame:\n",
            "       A     B     C\n",
            "0  10.0   5.0  11.0\n",
            "1  20.0   NaN   NaN\n",
            "2   NaN  15.0  12.0\n",
            "3  40.0   NaN  16.0\n",
            "4   NaN  25.0  20.0\n",
            "\n",
            "DataFrame after filling NaNs with column mean:\n",
            "            A     B      C\n",
            "0  10.000000   5.0  11.00\n",
            "1  20.000000  15.0  14.75\n",
            "2  23.333333  15.0  12.00\n",
            "3  40.000000  15.0  16.00\n",
            "4  23.333333  25.0  20.00\n",
            "\n",
            "DataFrame after dropping rows with >1 missing value:\n",
            "       A     B     C\n",
            "0  10.0   5.0  11.0\n",
            "2   NaN  15.0  12.0\n",
            "3  40.0   NaN  16.0\n",
            "4   NaN  25.0  20.0\n"
          ]
        }
      ]
    },
    {
      "cell_type": "code",
      "source": [
        "\"\"\"Q12.(a) Create a NumPy array with integers from 1 to 30.\n",
        "(b) Reshape it into a 5×6 matrix.\n",
        "(c) Extract all even numbers from the matrix and compute their average.\"\"\"\n",
        "\n",
        "import numpy as np\n",
        "\n",
        "# (a) Create a NumPy array with integers from 1 to 30\n",
        "arr = np.arange(1, 31)\n",
        "print(\"Array:\", arr)\n",
        "\n",
        "# (b) Reshape into a 5×6 matrix\n",
        "matrix = arr.reshape(5, 6)\n",
        "print(\"\\n5x6 Matrix:\\n\", matrix)\n",
        "\n",
        "# (c) Extract all even numbers and compute their average\n",
        "evens = matrix[matrix % 2 == 0]\n",
        "average_evens = np.mean(evens)\n",
        "print(\"\\nEven Numbers:\", evens)\n",
        "print(\"Average of Even Numbers:\", average_evens)"
      ],
      "metadata": {
        "colab": {
          "base_uri": "https://localhost:8080/"
        },
        "id": "eLhoyUDAwPlT",
        "outputId": "e34bf4a0-c4f1-4798-f714-8478eb23cb71"
      },
      "execution_count": 130,
      "outputs": [
        {
          "output_type": "stream",
          "name": "stdout",
          "text": [
            "Array: [ 1  2  3  4  5  6  7  8  9 10 11 12 13 14 15 16 17 18 19 20 21 22 23 24\n",
            " 25 26 27 28 29 30]\n",
            "\n",
            "5x6 Matrix:\n",
            " [[ 1  2  3  4  5  6]\n",
            " [ 7  8  9 10 11 12]\n",
            " [13 14 15 16 17 18]\n",
            " [19 20 21 22 23 24]\n",
            " [25 26 27 28 29 30]]\n",
            "\n",
            "Even Numbers: [ 2  4  6  8 10 12 14 16 18 20 22 24 26 28 30]\n",
            "Average of Even Numbers: 16.0\n"
          ]
        }
      ]
    },
    {
      "cell_type": "code",
      "source": [
        "\"\"\"Q13.\n",
        "(a) Create a DataFrame of 6 students with columns: Name, Age, Marks.\n",
        "(b) Select only students who scored above the overall average marks.\n",
        "(c) Display names of students younger than 20 whose marks are above 60\"\"\"\n",
        "\n",
        "import pandas as pd\n",
        "\n",
        "# (a) Create a DataFrame of 6 students\n",
        "data = {\n",
        "    'Name': ['Arpit', 'Bhaskar', 'Gagan', 'Mohan', 'Isha', 'Farhan'],\n",
        "    'Age': [19, 21, 18, 22, 20, 17],\n",
        "    'Marks': [65, 58, 72, 49, 80, 68]\n",
        "}\n",
        "df = pd.DataFrame(data)\n",
        "print(\"Students DataFrame:\\n\", df)\n",
        "\n",
        "# (b) Select students who scored above overall average marks\n",
        "avg_marks = df['Marks'].mean()\n",
        "above_avg = df[df['Marks'] > avg_marks]\n",
        "print(f\"\\nOverall Average Marks: {avg_marks:.2f}\")\n",
        "print(\"Students with Marks above Average:\\n\", above_avg)\n",
        "\n",
        "# (c) Display names of students younger than 20 whose marks are above 60\n",
        "young_high = df[(df['Age'] < 20) & (df['Marks'] > 60)]\n",
        "print(\"\\nStudents younger than 20 with Marks > 60:\\n\", young_high['Name'].tolist())"
      ],
      "metadata": {
        "colab": {
          "base_uri": "https://localhost:8080/"
        },
        "id": "pa-du3Txwq1L",
        "outputId": "ec0332ea-156c-4cdc-9fed-7c623182a2b0"
      },
      "execution_count": 131,
      "outputs": [
        {
          "output_type": "stream",
          "name": "stdout",
          "text": [
            "Students DataFrame:\n",
            "       Name  Age  Marks\n",
            "0    Arpit   19     65\n",
            "1  Bhaskar   21     58\n",
            "2    Gagan   18     72\n",
            "3    Mohan   22     49\n",
            "4     Isha   20     80\n",
            "5   Farhan   17     68\n",
            "\n",
            "Overall Average Marks: 65.33\n",
            "Students with Marks above Average:\n",
            "      Name  Age  Marks\n",
            "2   Gagan   18     72\n",
            "4    Isha   20     80\n",
            "5  Farhan   17     68\n",
            "\n",
            "Students younger than 20 with Marks > 60:\n",
            " ['Arpit', 'Gagan', 'Farhan']\n"
          ]
        }
      ]
    },
    {
      "cell_type": "code",
      "source": [
        "\"\"\"Q14.(a) Create a Pandas DataFrame with 5 employees having columns: Name, Tasks_Completed,\n",
        "Hours_Worked.\n",
        "(b) Add a new column Efficiency = Tasks_Completed / Hours_Worked.\n",
        "(c) Identify the employee with the highest efficiency and print their name and value.\"\"\"\n",
        "\n",
        "import pandas as pd\n",
        "\n",
        "# (a) Create a DataFrame with 5 employees\n",
        "data = {\n",
        "    'Name': ['Arpit', 'Mohan', 'Chetan', 'Bhasker', 'Isha'],\n",
        "    'Tasks_Completed': [50, 40, 60, 55, 45],\n",
        "    'Hours_Worked': [10, 8, 15, 12, 9]\n",
        "}\n",
        "df = pd.DataFrame(data)\n",
        "print(\"Employees DataFrame:\\n\", df)\n",
        "\n",
        "# (b) Add a new column Efficiency = Tasks_Completed / Hours_Worked\n",
        "df['Efficiency'] = df['Tasks_Completed'] / df['Hours_Worked']\n",
        "print(\"\\nDataFrame with Efficiency:\\n\", df)\n",
        "\n",
        "# (c) Identify the employee with the highest efficiency\n",
        "top_employee = df.loc[df['Efficiency'].idxmax()]\n",
        "print(f\"\\nHighest Efficiency: {top_employee['Name']} | Value: {top_employee['Efficiency']:.2f}\")"
      ],
      "metadata": {
        "colab": {
          "base_uri": "https://localhost:8080/"
        },
        "id": "S_qLhE86xCoK",
        "outputId": "695e51a9-58f2-4f0b-93d0-1817f21ca047"
      },
      "execution_count": 132,
      "outputs": [
        {
          "output_type": "stream",
          "name": "stdout",
          "text": [
            "Employees DataFrame:\n",
            "       Name  Tasks_Completed  Hours_Worked\n",
            "0    Arpit               50            10\n",
            "1    Mohan               40             8\n",
            "2   Chetan               60            15\n",
            "3  Bhasker               55            12\n",
            "4     Isha               45             9\n",
            "\n",
            "DataFrame with Efficiency:\n",
            "       Name  Tasks_Completed  Hours_Worked  Efficiency\n",
            "0    Arpit               50            10    5.000000\n",
            "1    Mohan               40             8    5.000000\n",
            "2   Chetan               60            15    4.000000\n",
            "3  Bhasker               55            12    4.583333\n",
            "4     Isha               45             9    5.000000\n",
            "\n",
            "Highest Efficiency: Arpit | Value: 5.00\n"
          ]
        }
      ]
    },
    {
      "cell_type": "markdown",
      "source": [
        "## **Part C - Case Study**"
      ],
      "metadata": {
        "id": "xCbSCrVZDS1m"
      }
    },
    {
      "cell_type": "code",
      "source": [
        "\"\"\"Case Study 1 – Student Performance Analytics\n",
        "You are given data of 100 students containing their marks in Math, Science, and English.\n",
        "(a) Using Pandas, calculate the average marks for each student and identify the top 5 performers.\n",
        "(b) Compute subject-wise average and standard deviation; comment which subject shows the\n",
        "highest variation.\n",
        "(c) Draw a boxplot for each subject and comment on outliers.\"\"\"\n",
        "\n",
        "import pandas as pd\n",
        "import numpy as np\n",
        "import matplotlib.pyplot as plt\n",
        "\n",
        "# Simulating the data for 100 students\n",
        "np.random.seed(0)  # for reproducibility\n",
        "data = {\n",
        "    'Student': [f'Student_{i+1}' for i in range(100)],\n",
        "    'Math': np.random.randint(40, 101, 100),\n",
        "    'Science': np.random.randint(35, 101, 100),\n",
        "    'English': np.random.randint(30, 101, 100)\n",
        "}\n",
        "df = pd.DataFrame(data)\n",
        "\n",
        "# (a) Calculate average marks for each student and identify top 5 performers\n",
        "df['Average'] = df[['Math', 'Science', 'English']].mean(axis=1)\n",
        "top5 = df.nlargest(5, 'Average')\n",
        "print(\"Top 5 Students based on Average Marks:\\n\", top5[['Student', 'Average']])\n",
        "\n",
        "# (b) Compute subject-wise average and standard deviation\n",
        "subject_stats = df[['Math', 'Science', 'English']].agg(['mean', 'std'])\n",
        "print(\"\\nSubject-wise Average and Standard Deviation:\\n\", subject_stats)\n",
        "highest_variation_subject = subject_stats.loc['std'].idxmax()\n",
        "print(f\"\\nSubject with highest variation: {highest_variation_subject}\")\n",
        "\n",
        "# (c) Draw a boxplot for each subject\n",
        "plt.figure(figsize=(8,5))\n",
        "df[['Math', 'Science', 'English']].boxplot()\n",
        "plt.title(\"Boxplot of Student Marks\")\n",
        "plt.ylabel(\"Marks\")\n",
        "plt.show()\n",
        "\n",
        "print(\"\\nComment on outliers: Points outside the whiskers in the boxplot are outliers, indicating exceptionally low or high marks in that subject.\")"
      ],
      "metadata": {
        "colab": {
          "base_uri": "https://localhost:8080/",
          "height": 746
        },
        "id": "W4btRxNKDfzC",
        "outputId": "f40e33bf-1511-435a-a8c5-053f960ee083"
      },
      "execution_count": 133,
      "outputs": [
        {
          "output_type": "stream",
          "name": "stdout",
          "text": [
            "Top 5 Students based on Average Marks:\n",
            "        Student    Average\n",
            "97  Student_98  92.333333\n",
            "84  Student_85  91.333333\n",
            "53  Student_54  88.666667\n",
            "77  Student_78  87.000000\n",
            "67  Student_68  86.666667\n",
            "\n",
            "Subject-wise Average and Standard Deviation:\n",
            "            Math    Science    English\n",
            "mean  68.620000  66.860000  64.410000\n",
            "std   18.117897  19.115819  19.664918\n",
            "\n",
            "Subject with highest variation: English\n"
          ]
        },
        {
          "output_type": "display_data",
          "data": {
            "text/plain": [
              "<Figure size 800x500 with 1 Axes>"
            ],
            "image/png": "[encoded data removed]"
          },
          "metadata": {}
        },
        {
          "output_type": "stream",
          "name": "stdout",
          "text": [
            "\n",
            "Comment on outliers: Points outside the whiskers in the boxplot are outliers, indicating exceptionally low or high marks in that subject.\n"
          ]
        }
      ]
    },
    {
      "cell_type": "code",
      "source": [
        "\"\"\"Case Study 2 – Sales Data Exploration\n",
        "A company records sales transactions in a dataset with columns: Product, Quantity, Price,\n",
        "Region.\n",
        "(a) Add a new column Total = Quantity × Price and compute overall revenue.\n",
        "(b) Group data by region and identify which region contributes the most sales.\n",
        "(c) Plot a histogram of total sales per product and discuss which products are underperforming.\"\"\"\n",
        "\n",
        "import pandas as pd\n",
        "import numpy as np\n",
        "import matplotlib.pyplot as plt\n",
        "\n",
        "#Simulating sales data\n",
        "np.random.seed(0)  # for reproducibility\n",
        "products = ['Product_A', 'Product_B', 'Product_C', 'Product_D', 'Product_E']\n",
        "regions = ['North', 'South', 'East', 'West']\n",
        "data = {\n",
        "    'Product': np.random.choice(products, 100),\n",
        "    'Quantity': np.random.randint(1, 21, 100),\n",
        "    'Price': np.random.randint(50, 501, 100),\n",
        "    'Region': np.random.choice(regions, 100)\n",
        "}\n",
        "df = pd.DataFrame(data)\n",
        "\n",
        "#(a)Add Total column and compute overall revenue\n",
        "df['Total'] = df['Quantity'] * df['Price']\n",
        "overall_revenue = df['Total'].sum()\n",
        "print(\"Overall Revenue:\", overall_revenue)\n",
        "\n",
        "#(b)Group by region and identify top contributing region\n",
        "region_sales = df.groupby('Region')['Total'].sum()\n",
        "top_region = region_sales.idxmax()\n",
        "print(\"\\nSales by Region:\\n\", region_sales)\n",
        "print(f\"Region with highest sales: {top_region}\")\n",
        "\n",
        "#(c)Plot histogram of total sales per product\n",
        "product_sales = df.groupby('Product')['Total'].sum()\n",
        "plt.figure(figsize=(8,5))\n",
        "product_sales.plot(kind='bar', color='skyblue')\n",
        "plt.title(\"Total Sales per Product\")\n",
        "plt.ylabel(\"Total Sales\")\n",
        "plt.show()\n",
        "\n",
        "print(\"\\nComment on underperforming products: Products with significantly lower total sales compared to others may be underperforming.\")"
      ],
      "metadata": {
        "colab": {
          "base_uri": "https://localhost:8080/",
          "height": 752
        },
        "id": "s5-46mxGD4rH",
        "outputId": "b71d4765-a20b-47c8-d7e9-5548609f9931"
      },
      "execution_count": 134,
      "outputs": [
        {
          "output_type": "stream",
          "name": "stdout",
          "text": [
            "Overall Revenue: 303042\n",
            "\n",
            "Sales by Region:\n",
            " Region\n",
            "East     90107\n",
            "North    90538\n",
            "South    48222\n",
            "West     74175\n",
            "Name: Total, dtype: int64\n",
            "Region with highest sales: North\n"
          ]
        },
        {
          "output_type": "display_data",
          "data": {
            "text/plain": [
              "<Figure size 800x500 with 1 Axes>"
            ],
            "image/png": "[encoded data removed]"
          },
          "metadata": {}
        },
        {
          "output_type": "stream",
          "name": "stdout",
          "text": [
            "\n",
            "Comment on underperforming products: Products with significantly lower total sales compared to others may be underperforming.\n"
          ]
        }
      ]
    },
    {
      "cell_type": "code",
      "source": [
        "\"\"\"Case Study 3 – Predicting Fuel Efficiency (Auto MPG Dataset)\n",
        "You are analyzing the Auto MPG dataset (UCI Repository) with features: mpg, cylinders,\n",
        "displacement, horsepower, weight, acceleration, model year, origin.\n",
        "(a) Compute the correlation of mpg with each numeric feature and discuss which factors\n",
        "influence fuel efficiency most.\n",
        "(b) Plot a scatter plot of weight vs mpg; describe the trend you observe.\"\"\"\n",
        "\n",
        "import pandas as pd\n",
        "import seaborn as sns\n",
        "import matplotlib.pyplot as plt\n",
        "import numpy as np\n",
        "\n",
        "#(a) Computing the correlation of mpg with each numeric feature and discuss which factors influence fuel efficiency most.\n",
        "# Loading the Auto MPG dataset\n",
        "\n",
        "url = 'https://archive.ics.uci.edu/ml/machine-learning-databases/auto-mpg/auto-mpg.data'\n",
        "column_names = ['mpg', 'cylinders', 'displacement', 'horsepower', 'weight',\n",
        "                'acceleration', 'model_year', 'origin']\n",
        "\n",
        "# Use raw string for regex separator and handle missing values\n",
        "df = pd.read_csv(url, sep=r'\\s+', names=column_names)\n",
        "# Convert 'horsepower' to numeric, coercing errors to NaN\n",
        "df['horsepower'] = pd.to_numeric(df['horsepower'], errors='coerce')\n",
        "\n",
        "# Drop rows with NaN values in 'horsepower' after coercion\n",
        "df.dropna(subset=['horsepower'], inplace=True)\n",
        "\n",
        "# Now correlation will work\n",
        "corr_matrix = df.corr(numeric_only=True) # Calculate correlation only on numeric columns\n",
        "print(\"Correlation with MPG:\\n\", corr_matrix['mpg'].sort_values(ascending=False))\n",
        "\n",
        "#(b) Scatter Plot of Weight vs MPG\n",
        "# Scatter plot of weight vs mpg\n",
        "plt.figure(figsize=(8, 6))\n",
        "sns.scatterplot(x='weight', y='mpg', data=df, color='purple')\n",
        "plt.title('Scatter Plot: Weight vs MPG')\n",
        "plt.xlabel('Weight (lbs)')\n",
        "plt.ylabel('Miles per Gallon (MPG)')\n",
        "plt.show()"
      ],
      "metadata": {
        "colab": {
          "base_uri": "https://localhost:8080/",
          "height": 703
        },
        "id": "4hj_7ibbE5Kt",
        "outputId": "595cb1b7-662f-40ab-c6b9-6001ca9f1e57"
      },
      "execution_count": 135,
      "outputs": [
        {
          "output_type": "stream",
          "name": "stdout",
          "text": [
            "Correlation with MPG:\n",
            " mpg             1.000000\n",
            "cylinders       0.950721\n",
            "horsepower      0.896017\n",
            "acceleration   -0.348746\n",
            "weight         -0.505419\n",
            "model_year     -0.562543\n",
            "Name: mpg, dtype: float64\n"
          ]
        },
        {
          "output_type": "display_data",
          "data": {
            "text/plain": [
              "<Figure size 800x600 with 1 Axes>"
            ],
            "image/png": "[encoded data removed]"
          },
          "metadata": {}
        }
      ]
    }
  ]
}