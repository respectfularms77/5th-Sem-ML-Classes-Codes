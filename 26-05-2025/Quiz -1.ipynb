{
 "cells": [
  {
   "cell_type": "code",
   "execution_count": 5,
   "id": "a1077a69",
   "metadata": {},
   "outputs": [
    {
     "name": "stdout",
     "output_type": "stream",
     "text": [
      "Enter the Number of Lines you want to see in the Pattern: 7\n",
      "      *\n",
      "     ***\n",
      "    *****\n",
      "   *******\n",
      "  *********\n",
      " ***********\n",
      "*************\n"
     ]
    }
   ],
   "source": [
    "#Q1) WAP for Fibonacci Series by using Recursive Function.  \n",
    "# Star Pattern aslike Center domed Pyramid using while loop.\n",
    "# Factorial by using the Function\n",
    "\n",
    "#FIBONACCI\n",
    "# def fib(n):\n",
    "#     if (n==1 or n==2):\n",
    "#         return 1\n",
    "#     else:\n",
    "#         return fib(n-1) + fib(n-2)\n",
    "# print(\"The 1st 5 Numbers of Fibnacci Series after 1: \")\n",
    "# for i in range(1,6):\n",
    "#     print(fib(i),end = \" \")\n",
    "\n",
    "#FACTORIAL\n",
    "# def fac(num):\n",
    "#     if(num==0 or num==1):\n",
    "#         return 1\n",
    "#     else:\n",
    "#         return num*fac(num-1)\n",
    "# print(\"Factorial of 5 is: \",fac(5))\n",
    "\n",
    "#Pattern\n",
    "inp = int(input(\"Enter the Number of Lines you want to see in the Pattern: \"))\n",
    "sp = inp-1\n",
    "for i in range(1,inp+1):\n",
    "    print(\" \"*sp+\"*\"*(2*i-1))\n",
    "    sp = sp-1"
   ]
  },
  {
   "cell_type": "code",
   "execution_count": null,
   "id": "f1cba248",
   "metadata": {},
   "outputs": [],
   "source": []
  },
  {
   "cell_type": "code",
   "execution_count": null,
   "id": "e6145c8c",
   "metadata": {},
   "outputs": [],
   "source": []
  },
  {
   "cell_type": "code",
   "execution_count": 28,
   "id": "523a0ac9",
   "metadata": {},
   "outputs": [
    {
     "name": "stdout",
     "output_type": "stream",
     "text": [
      "[[[ 1  2  3  4  5]\n",
      "  [ 6  7  8  9 10]\n",
      "  [11 12 13 14 15]\n",
      "  [16 17 18 19 20]\n",
      "  [21 22 23 24 25]]\n",
      "\n",
      " [[26 27 28 29 30]\n",
      "  [31 32 33 34 35]\n",
      "  [36 37 38 39 40]\n",
      "  [41 42 43 44 45]\n",
      "  [46 47 48 49 50]]]\n",
      "[[[ 1  2  3]\n",
      "  [ 4  5  6]]\n",
      "\n",
      " [[ 7  8  9]\n",
      "  [10 11 12]]\n",
      "\n",
      " [[13 14 15]\n",
      "  [16 17 18]]]\n",
      "[[[ 1.          2.05882353  3.11764706]\n",
      "  [ 4.17647059  5.23529412  6.29411765]]\n",
      "\n",
      " [[ 7.35294118  8.41176471  9.47058824]\n",
      "  [10.52941176 11.58823529 12.64705882]]\n",
      "\n",
      " [[13.70588235 14.76470588 15.82352941]\n",
      "  [16.88235294 17.94117647 19.        ]]]\n",
      "[[[0. 0.]\n",
      "  [0. 0.]]\n",
      "\n",
      " [[0. 0.]\n",
      "  [0. 0.]]]\n",
      "[[[1. 1. 1.]\n",
      "  [1. 1. 1.]\n",
      "  [1. 1. 1.]]\n",
      "\n",
      " [[1. 1. 1.]\n",
      "  [1. 1. 1.]\n",
      "  [1. 1. 1.]]\n",
      "\n",
      " [[1. 1. 1.]\n",
      "  [1. 1. 1.]\n",
      "  [1. 1. 1.]]]\n",
      "[[[7 7]\n",
      "  [7 7]]\n",
      "\n",
      " [[7 7]\n",
      "  [7 7]]]\n"
     ]
    }
   ],
   "source": [
    "#Q2) Construct 3D Array in 10 ways\n",
    "import numpy as np\n",
    "a1 = np.arange(1,51).reshape(2,5,5)\n",
    "print(a1)\n",
    "a2= np.array([1,2,3,4,5,6,7,8,9,10,11,12,13,14,15,16,17,18]).reshape(3,2,3)\n",
    "print(a2)\n",
    "a3 = np.linspace(1,19,18).reshape(3,2,3)\n",
    "print(a3)\n",
    "a4 = np.zeros((2,2,2))\n",
    "print(a4)\n",
    "a5 = np.ones((3,3,3))\n",
    "print(a5)\n",
    "a6 = np.full((2,2,2),7)\n",
    "print(a6)"
   ]
  },
  {
   "cell_type": "code",
   "execution_count": null,
   "id": "e002f7c1",
   "metadata": {},
   "outputs": [],
   "source": [
    "#Q3) Why set is not considered in the Series Creation of Panda Library\n",
    "#Answer -> Set cannot be constructed using the Series cuz it's immutable and has unordered set of elements\n",
    "#(which doesn't follows any indexes) so basically for using set we can convert the set into list[MOST BASIC]"
   ]
  },
  {
   "cell_type": "code",
   "execution_count": 17,
   "id": "2ce18691",
   "metadata": {},
   "outputs": [
    {
     "name": "stdout",
     "output_type": "stream",
     "text": [
      "Tuple as in series:\n",
      "n 0    1\n",
      "1    2\n",
      "2    3\n",
      "3    4\n",
      "4    5\n",
      "dtype: int64\n",
      "Dictionary as in series:\n",
      " 1    a\n",
      "2    b\n",
      "3    c\n",
      "4    d\n",
      "5    e\n",
      "dtype: object\n"
     ]
    }
   ],
   "source": [
    "#Q4) Why numpy, 2D array and 3D Array is considered as object type in pandas Library.\n",
    "#Show series Creation for dictionary and tuple\n",
    "#Answer -> Panda mostly take series or linear types of inputs but it doesn't associates numpy to be in a series format as it\n",
    "#is used to create arrays, matrices and for 2D and 3D arrays its not linear type of data structures therefore it \n",
    "# can't be used along with the Pandas\n",
    "\n",
    "import pandas as pd\n",
    "tu = (1,2,3,4,5)\n",
    "dic = {\n",
    "    1: 'a',\n",
    "    2: 'b',\n",
    "    3: 'c',\n",
    "    4: 'd',\n",
    "    5: 'e'\n",
    "}\n",
    "\n",
    "print(\"Tuple as in series:\\nn\",pd.Series(tu))\n",
    "print(\"Dictionary as in series:\\n\",pd.Series(dic))"
   ]
  },
  {
   "cell_type": "code",
   "execution_count": null,
   "id": "0131d52e",
   "metadata": {},
   "outputs": [],
   "source": [
    "#Q5) Calulate the inverse and Solve the matrices provided by the user\n",
    "a = [int(n) for n in input(\"Enter the rows and cols of matrix: \").split()]\n",
    "ar = []\n",
    "print(a,b)"
   ]
  },
  {
   "cell_type": "code",
   "execution_count": null,
   "id": "9fc28529",
   "metadata": {},
   "outputs": [],
   "source": []
  },
  {
   "cell_type": "code",
   "execution_count": null,
   "id": "5dee1457",
   "metadata": {},
   "outputs": [],
   "source": []
  },
  {
   "cell_type": "code",
   "execution_count": null,
   "id": "8fade8e0",
   "metadata": {},
   "outputs": [],
   "source": [
    "#Q5) Calulate the inverse and Solve the matrices provided by the user\n",
    "a = int(input(\"Enter the rows: \"))\n",
    "b = int(input(\"Enter the Coloumns: \"))\n",
    "print(a,b)\n",
    "ar = []\n",
    "if(a==b):\n",
    "    for i in range(0,a):\n",
    "        l = [int(x) for x in input(\"Enter elements in rows: \").split()]\n",
    "        ar.append(l)\n",
    "    arr = np.array(ar)\n",
    "    deter = np.linalg.det(arr)\n",
    "    if (deter != 0):\n",
    "        print(\"Determinant is: \",deter)\n",
    "        print(\"Inverse Exists and it is: \",np.linalg.inv(arr))\n",
    "    else:\n",
    "        print(\"Its a singular Matrix whose determinant is 0\")\n",
    "else:\n",
    "    print(\"Determinant cannot be calculated if rows are not equal to coloumns\")"
   ]
  },
  {
   "cell_type": "code",
   "execution_count": null,
   "id": "ecb9dc1a",
   "metadata": {},
   "outputs": [],
   "source": []
  }
 ],
 "metadata": {
  "kernelspec": {
   "display_name": "Python 3 (ipykernel)",
   "language": "python",
   "name": "python3"
  },
  "language_info": {
   "codemirror_mode": {
    "name": "ipython",
    "version": 3
   },
   "file_extension": ".py",
   "mimetype": "text/x-python",
   "name": "python",
   "nbconvert_exporter": "python",
   "pygments_lexer": "ipython3",
   "version": "3.9.17"
  }
 },
 "nbformat": 4,
 "nbformat_minor": 5
}
