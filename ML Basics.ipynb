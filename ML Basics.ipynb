{
 "cells": [
  {
   "cell_type": "code",
   "execution_count": 1,
   "id": "a42719aa-849e-4f14-808b-8ce351752765",
   "metadata": {},
   "outputs": [
    {
     "data": {
      "text/plain": [
       "int"
      ]
     },
     "execution_count": 1,
     "metadata": {},
     "output_type": "execute_result"
    }
   ],
   "source": [
    "type(34)"
   ]
  },
  {
   "cell_type": "code",
   "execution_count": 11,
   "id": "4537d81f-3bb1-4014-b715-1f54f67f014e",
   "metadata": {},
   "outputs": [
    {
     "name": "stdout",
     "output_type": "stream",
     "text": [
      "100\n"
     ]
    },
    {
     "data": {
      "text/plain": [
       "int"
      ]
     },
     "execution_count": 11,
     "metadata": {},
     "output_type": "execute_result"
    }
   ],
   "source": [
    "v1 =100\n",
    "print(v1)\n",
    "type(v1)"
   ]
  },
  {
   "cell_type": "code",
   "execution_count": 12,
   "id": "61c9a4b9-0155-40f0-a554-349aa1dd405c",
   "metadata": {},
   "outputs": [
    {
     "name": "stdout",
     "output_type": "stream",
     "text": [
      "45 <class 'int'>\n"
     ]
    }
   ],
   "source": [
    "v1 =45\n",
    "print(v1,type(v1))"
   ]
  },
  {
   "cell_type": "code",
   "execution_count": 4,
   "id": "34cf632f-8994-4770-b2c5-f92be0666e51",
   "metadata": {},
   "outputs": [
    {
     "data": {
      "text/plain": [
       "float"
      ]
     },
     "execution_count": 4,
     "metadata": {},
     "output_type": "execute_result"
    }
   ],
   "source": [
    "type(80.4)"
   ]
  },
  {
   "cell_type": "code",
   "execution_count": 5,
   "id": "221fccdb-66f1-4233-bb63-de2fd406636a",
   "metadata": {},
   "outputs": [
    {
     "name": "stdout",
     "output_type": "stream",
     "text": [
      "80.4\n"
     ]
    },
    {
     "data": {
      "text/plain": [
       "float"
      ]
     },
     "execution_count": 5,
     "metadata": {},
     "output_type": "execute_result"
    }
   ],
   "source": [
    "v2 =80.4\n",
    "print(v2)\n",
    "type(v2)"
   ]
  },
  {
   "cell_type": "code",
   "execution_count": 6,
   "id": "217d84b8-b5e1-463a-9efc-d50a80e427a0",
   "metadata": {},
   "outputs": [
    {
     "name": "stdout",
     "output_type": "stream",
     "text": [
      "80.4 <class 'float'>\n"
     ]
    }
   ],
   "source": [
    "v2 =80.4\n",
    "print(vl,type(v2))"
   ]
  },
  {
   "cell_type": "code",
   "execution_count": 9,
   "id": "74d44e40-13e4-4868-990e-56db323f2b7d",
   "metadata": {},
   "outputs": [
    {
     "data": {
      "text/plain": [
       "str"
      ]
     },
     "execution_count": 13,
     "metadata": {},
     "output_type": "execute_result"
    }
   ],
   "source": [
    "type('Arpit Kumar')"
   ]
  },
  {
   "cell_type": "code",
   "execution_count": 8,
   "id": "ee09dc70-6f2d-4f98-9f29-0a16eb7d3007",
   "metadata": {},
   "outputs": [
    {
     "data": {
      "text/plain": [
       "str"
      ]
     },
     "execution_count": 8,
     "metadata": {},
     "output_type": "execute_result"
    }
   ],
   "source": [
    "type(\"Arpit Kumar Mohanty\")"
   ]
  },
  {
   "cell_type": "code",
   "execution_count": 15,
   "id": "0e4d3a3d-32fe-420c-abcd-c967bf6446e8",
   "metadata": {},
   "outputs": [
    {
     "name": "stdout",
     "output_type": "stream",
     "text": [
      "80.4\n"
     ]
    },
    {
     "data": {
      "text/plain": [
       "str"
      ]
     },
     "execution_count": 15,
     "metadata": {},
     "output_type": "execute_result"
    }
   ],
   "source": [
    "v3 ='80.4'\n",
    "print(v2)\n",
    "type(v2)"
   ]
  },
  {
   "cell_type": "code",
   "execution_count": 16,
   "id": "956dc083-070a-40a7-88e2-e9d59b5c9c71",
   "metadata": {},
   "outputs": [
    {
     "name": "stdout",
     "output_type": "stream",
     "text": [
      "True <class 'bool'>\n"
     ]
    }
   ],
   "source": [
    "v5 = True\n",
    "print(v5, type(v5))"
   ]
  },
  {
   "cell_type": "code",
   "execution_count": 17,
   "id": "d8706d96-225c-43f4-89ab-df4be46cc3e5",
   "metadata": {},
   "outputs": [
    {
     "name": "stdout",
     "output_type": "stream",
     "text": [
      "(1+3j) <class 'complex'>\n"
     ]
    }
   ],
   "source": [
    "v6 = 1+3j\n",
    "print(v6, type(v6))"
   ]
  },
  {
   "cell_type": "code",
   "execution_count": 21,
   "id": "fb68494e-1f01-42b1-bc5b-956876c5d93b",
   "metadata": {},
   "outputs": [
    {
     "name": "stdout",
     "output_type": "stream",
     "text": [
      "['Arpit', 20, 2341013237, (2+4j)] <class 'list'>\n",
      "['Arpit', 20, 2341013237, (2+4j), 'Hey there'] <class 'list'>\n"
     ]
    }
   ],
   "source": [
    "v7 = ['Arpit', 20, 2341013237, 2+4j]\n",
    "print(v7, type(v7))\n",
    "v7.append(\"Hey there\")\n",
    "print(v7, type(v7))"
   ]
  },
  {
   "cell_type": "code",
   "execution_count": 25,
   "id": "66b63d74-204a-4ba2-8bea-67f08fb8d007",
   "metadata": {},
   "outputs": [
    {
     "name": "stdout",
     "output_type": "stream",
     "text": [
      "('Arpit', 20, 2341013237, (2+4j)) <class 'tuple'>\n"
     ]
    }
   ],
   "source": [
    "v8 = ('Arpit', 20, 2341013237, 2+4j)\n",
    "print(v7, type(v7))"
   ]
  },
  {
   "cell_type": "code",
   "execution_count": 29,
   "id": "a817ea2c-f631-4309-9d58-73b7909fc4c2",
   "metadata": {},
   "outputs": [
    {
     "name": "stdout",
     "output_type": "stream",
     "text": [
      "Yellow\n"
     ]
    },
    {
     "data": {
      "text/plain": [
       "dict"
      ]
     },
     "execution_count": 29,
     "metadata": {},
     "output_type": "execute_result"
    }
   ],
   "source": [
    "dictionary1 = {\n",
    "    'Fruit':'Manogo', \n",
    "    'Vegetables':'Potato', \n",
    "    'color':'Yellow', \n",
    "    'Taste':'Mixed type'\n",
    "}\n",
    "print(dictionary1['color'])\n",
    "type(dictionary1)"
   ]
  },
  {
   "cell_type": "code",
   "execution_count": 31,
   "id": "327382d6-2aa0-4ae3-b5c7-01026981027f",
   "metadata": {},
   "outputs": [
    {
     "name": "stdout",
     "output_type": "stream",
     "text": [
      "<class 'set'> {2000, 1, 10, 100}\n"
     ]
    }
   ],
   "source": [
    "setA = {1,10,100,2000}\n",
    "print(type(setA), setA)"
   ]
  },
  {
   "cell_type": "code",
   "execution_count": null,
   "id": "e8233568-c124-4437-b7c2-ccc1cb0da6dc",
   "metadata": {},
   "outputs": [],
   "source": []
  }
 ],
 "metadata": {
  "kernelspec": {
   "display_name": "Python 3 (ipykernel)",
   "language": "python",
   "name": "python3"
  },
  "language_info": {
   "codemirror_mode": {
    "name": "ipython",
    "version": 3
   },
   "file_extension": ".py",
   "mimetype": "text/x-python",
   "name": "python",
   "nbconvert_exporter": "python",
   "pygments_lexer": "ipython3",
   "version": "3.9.17"
  }
 },
 "nbformat": 4,
 "nbformat_minor": 5
}
