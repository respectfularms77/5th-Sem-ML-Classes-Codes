{
 "cells": [
  {
   "cell_type": "code",
   "execution_count": 1,
   "id": "initial_id",
   "metadata": {},
   "outputs": [
    {
     "name": "stdin",
     "output_type": "stream",
     "text": [
      " 50\n"
     ]
    },
    {
     "name": "stdout",
     "output_type": "stream",
     "text": [
      "C\n"
     ]
    }
   ],
   "source": [
    "# Q1\n",
    "marks=int(input())\n",
    "if(marks<=100):\n",
    "    if(marks>=90):\n",
    "        print(\"A\")\n",
    "    elif(marks>=75):\n",
    "        print(\"B\")\n",
    "    elif(marks>=50):\n",
    "        print(\"C\")\n",
    "    elif(marks>=0):\n",
    "        print(\"Fail\")\n",
    "    else:\n",
    "        print(\"invalid Input\")\n",
    "else:\n",
    "    print(\"invalid Input\")"
   ]
  },
  {
   "cell_type": "code",
   "execution_count": 2,
   "id": "b497a0ef7ad2c88c",
   "metadata": {
    "ExecuteTime": {
     "end_time": "2025-09-17T11:34:48.061793Z",
     "start_time": "2025-09-17T11:34:40.936312Z"
    }
   },
   "outputs": [
    {
     "name": "stdin",
     "output_type": "stream",
     "text": [
      " 123456\n"
     ]
    },
    {
     "name": "stdout",
     "output_type": "stream",
     "text": [
      "Sum of it's digit is :  21\n"
     ]
    }
   ],
   "source": [
    "#Q2\n",
    "num=int(input())\n",
    "sum=0\n",
    "while(num>0):\n",
    "    sum+=num%10\n",
    "    num=num//10\n",
    "print(\"Sum of it's digit is : \",sum)"
   ]
  },
  {
   "cell_type": "code",
   "execution_count": 3,
   "id": "4ee84209dbc75264",
   "metadata": {},
   "outputs": [
    {
     "name": "stdout",
     "output_type": "stream",
     "text": [
      "False  \n",
      "False  \n",
      "False  \n",
      "True  \n",
      "True  \n",
      "False  \n",
      "True  \n",
      "True  \n",
      "False  \n"
     ]
    }
   ],
   "source": [
    "#Q3\n",
    "import math as mt\n",
    "def is_prime(n):\n",
    "    if(n<2):\n",
    "        return False\n",
    "    else:\n",
    "        for i in range(2,int(mt.sqrt(n)+1)):\n",
    "            if(n%i==0):\n",
    "                return False\n",
    "        return True\n",
    "\n",
    "list=[10,123,42,3,2,-1,5,11,1]\n",
    "for i in list:\n",
    "    print(is_prime(i),\" \")\n",
    "    "
   ]
  },
  {
   "cell_type": "code",
   "execution_count": 29,
   "id": "dbcb2507-c3a3-45d5-91a1-278ec81dafab",
   "metadata": {},
   "outputs": [
    {
     "name": "stdout",
     "output_type": "stream",
     "text": [
      "True\n",
      "False\n",
      "True\n",
      "False\n",
      "False\n"
     ]
    }
   ],
   "source": [
    "#Q4\n",
    "def is_palindrome(word):\n",
    "    return word==word[::-1]\n",
    "\n",
    "list=[\"madam\",\"adam\",\"eye\",\"computer\",\"yes\"]\n",
    "for word in list:\n",
    "    print(is_palindrome(word))\n",
    "    "
   ]
  },
  {
   "cell_type": "code",
   "execution_count": 26,
   "id": "fe5e68f5-7a1b-4bad-9cd4-210658a89bf7",
   "metadata": {},
   "outputs": [
    {
     "name": "stdout",
     "output_type": "stream",
     "text": [
      "Matrix A :\n",
      " [[1 2 3]\n",
      " [4 5 6]\n",
      " [7 8 9]]\n",
      "Matrix B :\n",
      " [[ 1 10  2]\n",
      " [ 4  5  8]\n",
      " [ 9  6  2]]\n",
      "Matrix Multiplication:\n",
      " [[ 36  38  24]\n",
      " [ 78 101  60]\n",
      " [120 164  96]]\n",
      "Determinant of Matrix B:\n",
      " 559.9999999999999\n",
      "Inverse of Matrix B:\n",
      " [[-6.78571429e-02 -1.42857143e-02  1.25000000e-01]\n",
      " [ 1.14285714e-01 -2.85714286e-02 -1.48690584e-18]\n",
      " [-3.75000000e-02  1.50000000e-01 -6.25000000e-02]]\n",
      "Verification:(Multiplying Inverse to original Matrix):\n",
      " [[ 1.00000000e+00  0.00000000e+00  0.00000000e+00]\n",
      " [-5.55111512e-17  1.00000000e+00  5.55111512e-17]\n",
      " [-6.93889390e-17  0.00000000e+00  1.00000000e+00]]\n",
      "Verdict:  True\n"
     ]
    }
   ],
   "source": [
    "# Q5\n",
    "import numpy as np\n",
    "arr1=np.arange(1,10).reshape(3,3)\n",
    "arr2=np.array([[1,10,2],[4,5,8],[9,6,2]])\n",
    "print(\"Matrix A :\\n\",arr1)\n",
    "print(\"Matrix B :\\n\",arr2)\n",
    "print(\"Matrix Multiplication:\\n\",arr1.dot(arr2))\n",
    "print(\"Determinant of Matrix B:\\n\",np.linalg.det(arr2))\n",
    "inv=np.linalg.inv(arr2)\n",
    "print(\"Inverse of Matrix B:\\n\",inv)\n",
    "print(\"Verification:(Multiplying Inverse to original Matrix):\\n\",arr2.dot(inv))\n",
    "print(\"Verdict: \",np.allclose(arr2.dot(inv),np.identity(3)))"
   ]
  },
  {
   "cell_type": "code",
   "execution_count": 54,
   "id": "0c213db7-e366-4504-9799-c69f05819920",
   "metadata": {},
   "outputs": [
    {
     "name": "stdout",
     "output_type": "stream",
     "text": [
      "[1 9 8 7 9 8 1 7 6 5]\n",
      "[7 7 5 7 3 9 2 1 6 7]\n",
      "arr1 > arr2: [False  True  True False  True False False  True False False]\n",
      "arr1 < arr2: [ True False False False False  True  True False False  True]\n",
      "arr1 == arr2: [False False False  True False False False False  True False]\n",
      "4\n"
     ]
    }
   ],
   "source": [
    "# Q6\n",
    "from numpy import random\n",
    "arr1=random.randint(1,10,10)\n",
    "print(arr1)\n",
    "arr2=random.randint(1,10,10)\n",
    "print(arr2)\n",
    "print(\"arr1 > arr2:\", arr1 > arr2)\n",
    "print(\"arr1 < arr2:\", arr1 < arr2)\n",
    "print(\"arr1 == arr2:\", arr1 == arr2)\n",
    "count_greater=np.sum(arr1>arr2)\n",
    "print(count_greater)"
   ]
  },
  {
   "cell_type": "code",
   "execution_count": 74,
   "id": "d4b36b59-37a9-48b8-89e3-0428dc3b7398",
   "metadata": {},
   "outputs": [
    {
     "name": "stdout",
     "output_type": "stream",
     "text": [
      "Marks:  [19, 13, 62, 39, 87, 27, 65, 70, 90, 43]\n",
      "Average : 51.5\n",
      "Marks above average: [62 87 65 70 90]\n"
     ]
    }
   ],
   "source": [
    "#Q7\n",
    "marks=[]\n",
    "for i in range(10):\n",
    "    marks.append(random.randint(0,101))\n",
    "print(\"Marks: \",marks)\n",
    "arr=np.array(marks)\n",
    "print(\"Average :\",arr.mean())\n",
    "print(\"Marks above average:\", arr[arr>arr.mean()])"
   ]
  },
  {
   "cell_type": "code",
   "execution_count": 85,
   "id": "6844c26f-49a4-4247-ab18-4cbdd16f06a2",
   "metadata": {},
   "outputs": [
    {
     "name": "stdout",
     "output_type": "stream",
     "text": [
      "Original :\n",
      " [[ 1  2  3  4]\n",
      " [ 5  6  7  8]\n",
      " [ 9 10 11 12]\n",
      " [13 14 15 16]]\n",
      "Second Row:\n",
      "  [[5 6 7 8]]\n",
      "Third column:\n",
      "  [[ 3]\n",
      " [ 7]\n",
      " [11]\n",
      " [15]]\n",
      "SubMatix 2x2 From Bottom Right:\n",
      " [[11 12]\n",
      " [15 16]]\n"
     ]
    }
   ],
   "source": [
    "#Q8\n",
    "arr=np.arange(1,17).reshape(4,4)\n",
    "print(\"Original :\\n\",arr)\n",
    "print(\"Second Row:\\n \",arr[1:2])\n",
    "print(\"Third column:\\n \",arr[:,2:3])\n",
    "print(\"SubMatix 2x2 From Bottom Right:\\n\",arr[-2:,-2:])"
   ]
  },
  {
   "cell_type": "code",
   "execution_count": 90,
   "id": "49fcec0e-f087-4a1b-aede-76ce7a50ff30",
   "metadata": {},
   "outputs": [
    {
     "name": "stdout",
     "output_type": "stream",
     "text": [
      "Original:(3x4)\n",
      "  [[ 1  2  3  4]\n",
      " [ 5  6  7  8]\n",
      " [ 9 10 11 12]]\n",
      "Reshape:(4x3)\n",
      "  [[ 1  2  3]\n",
      " [ 4  5  6]\n",
      " [ 7  8  9]\n",
      " [10 11 12]]\n",
      "Ravel (Flats into 1D):\n",
      " [ 1  2  3  4  5  6  7  8  9 10 11 12]\n"
     ]
    }
   ],
   "source": [
    "#Q9\n",
    "arr=np.arange(1,13).reshape(3,4)\n",
    "print(\"Original:(3x4)\\n \",arr)\n",
    "arr=arr.reshape(4,3)\n",
    "print(\"Reshape:(4x3)\\n \",arr)\n",
    "arr=arr.ravel()\n",
    "print(\"Ravel (Flats into 1D):\\n\",arr)"
   ]
  },
  {
   "cell_type": "code",
   "execution_count": 109,
   "id": "74af712b-971e-4ab5-82ae-d12cbd1ad99f",
   "metadata": {},
   "outputs": [
    {
     "name": "stdout",
     "output_type": "stream",
     "text": [
      "Sample:\n",
      " [2, 3, 2, 6, 4, 5, 2, 4, 1, 3, 1, 4, 2, 2, 4, 3, 3, 5, 5, 3, 2, 4, 4, 6, 1, 2, 5, 4, 6, 6, 6, 2, 1, 4, 6, 3, 1, 6, 1, 5, 4, 5, 6, 1, 1, 6, 2, 4, 4, 5, 3, 2, 3, 1, 4, 1, 3, 4, 4, 4, 5, 2, 4, 5, 6, 2, 5, 4, 2, 5, 2, 3, 5, 2, 3, 3, 1, 6, 6, 5, 6, 1, 6, 6, 3, 4, 6, 1, 6, 6, 5, 1, 3, 6, 1, 1, 3, 6, 5, 3, 5, 1, 4, 6, 6, 5, 6, 5, 3, 6, 1, 5, 2, 1, 6, 2, 6, 6, 2, 5, 5, 6, 5, 1, 1, 3, 1, 6, 6, 3, 2, 4, 2, 2, 5, 5, 5, 1, 4, 2, 1, 3, 3, 1, 6, 2, 2, 3, 5, 6, 4, 5, 6, 2, 4, 2, 4, 4, 2, 6, 2, 3, 6, 2, 2, 4, 2, 6, 6, 3, 2, 2, 4, 5, 3, 3, 1, 1, 3, 5, 6, 2, 1, 2, 4, 4, 3, 4, 2, 2, 5, 2, 2, 3, 1, 3, 1, 2, 3, 1, 1, 4, 2, 2, 4, 6, 4, 6, 5, 4, 6, 1, 5, 1, 1, 4, 4, 1, 6, 5, 5, 4, 1, 4, 5, 6, 6, 1, 6, 3, 5, 1, 2, 5, 6, 4, 5, 2, 1, 6, 1, 1, 3, 6, 5, 5, 4, 2, 2, 5, 2, 6, 2, 4, 1, 3, 1, 6, 5, 4, 3, 3, 1, 1, 5, 5, 5, 1, 1, 6, 1, 5, 1, 1, 5, 5, 1, 2, 5, 3, 5, 1, 1, 6, 4, 5, 6, 1, 4, 5, 6, 3, 6, 5, 3, 1, 1, 1, 2, 6, 5, 1, 4, 1, 2, 2, 4, 1, 6, 1, 5, 1, 1, 4, 4, 4, 2, 4, 6, 4, 4, 6, 4, 5, 1, 5, 5, 6, 3, 6, 6, 1, 4, 3, 3, 2, 5, 6, 2, 3, 1, 4, 3, 1, 2, 3, 4, 3, 3, 3, 6, 3, 4, 6, 4, 1, 2, 6, 5, 6, 2, 5, 1, 2, 5, 4, 3, 6, 6, 4, 3, 2, 3, 4, 1, 3, 3, 6, 6, 3, 6, 6, 6, 6, 1, 4, 4, 5, 2, 4, 3, 2, 2, 3, 3, 5, 1, 4, 1, 3, 2, 3, 1, 4, 1, 5, 2, 5, 5, 3, 4, 1, 4, 2, 6, 6, 2, 1, 6, 6, 3, 6, 3, 6, 6, 3, 3, 6, 3, 3, 2, 5, 4, 5, 3, 3, 3, 6, 4, 3, 2, 2, 5, 2, 6, 1, 4, 4, 2, 2, 5, 2, 6, 2, 3, 1, 5, 6, 1, 4, 5, 3, 4, 4, 6, 5, 4, 6, 5, 5, 4, 2, 1, 6, 4, 2, 5, 5, 1, 4, 3, 4, 4, 4, 5, 3, 1, 5, 5, 5, 6, 5, 6, 3, 1, 1, 5, 6, 4, 1, 1, 4, 1, 2, 1, 1, 5, 6, 3, 3, 2, 2, 4, 6, 2, 3, 3, 6, 5, 2, 6, 3, 6, 3, 5, 3, 4, 5, 4, 1, 5, 2, 5, 6, 5, 5, 2, 4, 4, 2, 2, 6, 1, 5, 5, 6, 2, 6, 5, 1, 2, 4, 3, 1, 2, 1, 1, 2, 4, 1, 2, 6, 6, 5, 5, 1, 4, 5, 1, 6, 2, 6, 1, 6, 4, 5, 6, 6, 2, 3, 1, 5, 5, 4, 3, 4, 3, 3, 1, 4, 4, 4, 5, 5, 2, 6, 4, 6, 3, 4, 4, 6, 4, 2, 5, 4, 6, 4, 2, 6, 1, 2, 3, 2, 6, 5, 5, 2, 2, 5, 3, 6, 2, 3, 2, 3, 6, 3, 3, 1, 1, 6, 1, 4, 5, 2, 4, 5, 5, 2, 2, 2, 5, 4, 2, 5, 1, 5, 6, 2, 3, 4, 5, 6, 6, 3, 2, 1, 5, 1, 3, 1, 4, 4, 6, 5, 6, 5, 5, 3, 6, 3, 3, 3, 2, 6, 5, 2, 3, 2, 1, 6, 3, 5, 3, 2, 6, 1, 2, 1, 1, 4, 4, 4, 4, 1, 6, 4, 2, 1, 5, 5, 1, 4, 3, 5, 4, 1, 5, 1, 5, 4, 2, 6, 1, 3, 6, 3, 6, 1, 6, 6, 3, 1, 3, 6, 1, 1, 4, 5, 3, 6, 3, 1, 1, 5, 1, 3, 4, 2, 6, 3, 1, 6, 1, 2, 6, 3, 3, 3, 5, 4, 1, 2, 3, 2, 1, 1, 2, 1, 6, 3, 2, 2, 1, 2, 4, 5, 3, 1, 6, 2, 2, 2, 3, 3, 3, 3, 6, 3, 5, 1, 3, 5, 2, 4, 1, 4, 3, 1, 1, 6, 2, 4, 6, 4, 3, 6, 6, 3, 6, 3, 3, 6, 1, 4, 6, 3, 5, 2, 1, 6, 3, 6, 1, 2, 5, 3, 2, 4, 6, 4, 1, 4, 6, 3, 1, 3, 6, 3, 3, 6, 6, 1, 1, 3, 3, 2, 5, 4, 1, 5, 5, 6, 2, 6, 3, 4, 4, 5, 3, 1, 4, 1, 4, 1, 5, 1, 6, 3, 2, 3, 5, 1, 6, 3, 1, 5, 6, 4, 3, 3, 4, 4, 4, 4, 3, 3, 5, 4, 3, 6, 3, 3, 1, 3, 2, 3, 3, 4, 6, 4, 4, 6, 4, 5, 4, 4, 3, 4, 2, 3, 1, 4, 5, 5, 4, 2, 4, 5, 2, 6, 3, 5, 3, 4, 4, 2, 6, 5, 4, 3, 6, 5, 6, 1, 5, 3, 2, 6, 3, 1, 6, 6, 4, 5, 4, 1, 5, 2, 2, 6, 6, 3, 2, 6, 5, 3, 1, 3, 2, 5, 4, 4, 6, 2, 6, 2, 1, 6, 5, 6, 1, 5, 4, 3, 2, 2, 5, 2, 2, 6, 6, 2, 1, 2, 6, 2, 5, 2, 1, 5, 4, 3, 5, 3, 4, 1, 2, 1, 4, 4, 2, 6, 1, 1, 3, 4, 3, 4]\n",
      "Frequency of Rolling Dice:\n",
      " {2: 157, 3: 170, 6: 181, 4: 165, 5: 159, 1: 168}\n"
     ]
    }
   ],
   "source": [
    "#Q10\n",
    "sample = [random.randint(1, 7) for _ in range(1000)]\n",
    "freq={}\n",
    "print(\"Sample:\\n\",sample)\n",
    "for i in range(1000):\n",
    "    freq[sample[i]]=freq.get(sample[i],0)+1\n",
    "print(\"Frequency of Rolling Dice:\\n\",freq)"
   ]
  },
  {
   "cell_type": "code",
   "execution_count": null,
   "id": "70dd1a3b-99a1-4f38-a5a9-1316daf23c55",
   "metadata": {},
   "outputs": [],
   "source": []
  }
 ],
 "metadata": {
  "kernelspec": {
   "display_name": "Python 3 (ipykernel)",
   "language": "python",
   "name": "python3"
  },
  "language_info": {
   "codemirror_mode": {
    "name": "ipython",
    "version": 3
   },
   "file_extension": ".py",
   "mimetype": "text/x-python",
   "name": "python",
   "nbconvert_exporter": "python",
   "pygments_lexer": "ipython3",
   "version": "3.13.7"
  }
 },
 "nbformat": 4,
 "nbformat_minor": 5
}
